{
 "cells": [
  {
   "cell_type": "code",
   "execution_count": 55,
   "id": "initial_id",
   "metadata": {
    "collapsed": true,
    "ExecuteTime": {
     "end_time": "2024-04-03T04:54:48.738848200Z",
     "start_time": "2024-04-03T04:54:48.625023100Z"
    }
   },
   "outputs": [],
   "source": [
    "import sys\n",
    "import os\n",
    "import pandas as pd\n",
    "import numpy as np\n",
    "from sklearn.ensemble import RandomForestClassifier\n",
    "from sklearn.model_selection import train_test_split\n",
    "from sklearn.decomposition import PCA\n",
    "\n",
    "sys.path.append('..')\n",
    "from audio_toolbox.metrics import splitTabularPredicting\n",
    "\n",
    "audio_root_folder = '../archive/Data'\n",
    "labels_csv = os.path.join(audio_root_folder, 'data.csv')\n",
    "unslicedData = pd.read_csv(labels_csv, header=0)\n",
    "slicedCSV = os.path.join(audio_root_folder, 'features.csv')\n",
    "slicedDataSet = pd.read_csv(slicedCSV, header=0)\n",
    "label = unslicedData['label']\n",
    "unslicedData = unslicedData.sample(frac=1).reset_index(drop=True)\n",
    "pca = PCA(n_components=0.90)"
   ]
  },
  {
   "cell_type": "code",
   "execution_count": 56,
   "outputs": [],
   "source": [
    "from sklearn.preprocessing import StandardScaler\n",
    "\n",
    "scalar = StandardScaler()"
   ],
   "metadata": {
    "collapsed": false,
    "ExecuteTime": {
     "end_time": "2024-04-03T04:54:48.739844800Z",
     "start_time": "2024-04-03T04:54:48.731543300Z"
    }
   },
   "id": "602825d3fbc3d85"
  },
  {
   "cell_type": "code",
   "execution_count": 57,
   "outputs": [],
   "source": [
    "#generate the testing data folds\n",
    "K = 5\n",
    "testDataFolds = []\n",
    "length = len(unslicedData)\n",
    "slice_size = length // K\n",
    "start_index = 0\n",
    "for i in range(K):\n",
    "    end_index = min(start_index + slice_size, length)\n",
    "    fold = unslicedData.iloc[start_index: end_index]\n",
    "    start_index = end_index\n",
    "    testDataFolds.append(fold)"
   ],
   "metadata": {
    "collapsed": false,
    "ExecuteTime": {
     "end_time": "2024-04-03T04:54:48.740842200Z",
     "start_time": "2024-04-03T04:54:48.734111800Z"
    }
   },
   "id": "87c452ac57bdc25d"
  },
  {
   "cell_type": "code",
   "execution_count": 58,
   "outputs": [],
   "source": [
    "#generate the training data folds\n",
    "trainData = []\n",
    "for i in range(K):\n",
    "    index = testDataFolds[i]['index']\n",
    "    trainData.append(slicedDataSet[~slicedDataSet['index'].isin(index)])"
   ],
   "metadata": {
    "collapsed": false,
    "ExecuteTime": {
     "end_time": "2024-04-03T04:54:48.770793300Z",
     "start_time": "2024-04-03T04:54:48.738848200Z"
    }
   },
   "id": "91127a6d4f7610c"
  },
  {
   "cell_type": "code",
   "execution_count": 59,
   "outputs": [
    {
     "name": "stdout",
     "output_type": "stream",
     "text": [
      "training accuracy: 0.9424496434380083\n",
      "training accuracy: 0.9490931832395247\n",
      "training accuracy: 0.9430680680680681\n",
      "training accuracy: 0.9470720720720721\n",
      "training accuracy: 0.9465715715715716\n"
     ]
    }
   ],
   "source": [
    "#model training\n",
    "from sklearn.svm import SVC\n",
    "from sklearn.ensemble import RandomForestClassifier\n",
    "from sklearn.linear_model import LogisticRegression\n",
    "from sklearn.metrics import accuracy_score\n",
    "\n",
    "#model = RandomForestClassifier(max_depth = 15, max_features = 8)\n",
    "#model = LogisticRegression(max_iter=1000, C=1e-3)\n",
    "model = SVC(kernel='rbf', C=1)\n",
    "\n",
    "predictions = []\n",
    "testLabels = []\n",
    "for i in range(K):\n",
    "    X_train = trainData[i].copy()\n",
    "    label = X_train['label']\n",
    "    X_train.drop(['label','index'], axis=1, inplace=True)\n",
    "    X_train_scaled = pd.DataFrame(scalar.fit_transform(X_train), columns=X_train.columns)\n",
    "    X_train_pca = pca.fit_transform(X_train_scaled)\n",
    "    #npArray = scalar.fit_transform(npArray)\n",
    "    #X_train = pd.DataFrame(npArray, columns=X_train.columns)\n",
    "    #trainingData, _, trainingLabel, _ = train_test_split(X_train_pca, label, train_size=0.5)\n",
    "    #model.fit(trainingData, trainingLabel)\n",
    "    model.fit(X_train_pca, label)\n",
    "    #model.fit(X_train_scaled, label)\n",
    "    #trainAccuracy = accuracy_score(model.predict(X_train_scaled), label)\n",
    "    #trainAccuracy = accuracy_score(model.predict(X_train), label)\n",
    "    trainAccuracy = accuracy_score(model.predict(X_train_pca), label)\n",
    "    print(f\"training accuracy: {trainAccuracy}\")\n",
    "    testData = testDataFolds[i].copy()\n",
    "    testIndex = testData['index']\n",
    "    testLabel = testData['label']\n",
    "    testLabels.append(testLabel)\n",
    "    #dataArray = testData.values\n",
    "    #dataArray = scalar.transform(dataArray)\n",
    "    #testData = pd.DataFrame(dataArray, columns=testData.columns)\n",
    "    prediction= splitTabularPredicting(model, testIndex, slicedDataSet, scalar, pca)\n",
    "    predictions.append(prediction)"
   ],
   "metadata": {
    "collapsed": false,
    "ExecuteTime": {
     "end_time": "2024-04-03T04:55:30.651244400Z",
     "start_time": "2024-04-03T04:54:48.758826Z"
    }
   },
   "id": "f97cd40291c7b8ec"
  },
  {
   "cell_type": "code",
   "execution_count": 60,
   "outputs": [
    {
     "name": "stdout",
     "output_type": "stream",
     "text": [
      "Mean Accuracy: 0.7658291457286432\n"
     ]
    }
   ],
   "source": [
    "#average accuracy\n",
    "accuracies = []\n",
    "for i in range(K):\n",
    "    prediction = predictions[i]\n",
    "    accuracy = accuracy_score(testLabels[i], prediction)\n",
    "    accuracies.append(accuracy)\n",
    "\n",
    "mean_accuracy = np.mean(accuracies)\n",
    "print(f\"Mean Accuracy: {mean_accuracy}\")"
   ],
   "metadata": {
    "collapsed": false,
    "ExecuteTime": {
     "end_time": "2024-04-03T04:55:30.663485300Z",
     "start_time": "2024-04-03T04:55:30.652241400Z"
    }
   },
   "id": "a57d7e5e03d0e89a"
  },
  {
   "cell_type": "code",
   "execution_count": 60,
   "outputs": [],
   "source": [],
   "metadata": {
    "collapsed": false,
    "ExecuteTime": {
     "end_time": "2024-04-03T04:55:30.663485300Z",
     "start_time": "2024-04-03T04:55:30.657994100Z"
    }
   },
   "id": "8c0dbd37e47b7862"
  }
 ],
 "metadata": {
  "kernelspec": {
   "display_name": "Python 3",
   "language": "python",
   "name": "python3"
  },
  "language_info": {
   "codemirror_mode": {
    "name": "ipython",
    "version": 2
   },
   "file_extension": ".py",
   "mimetype": "text/x-python",
   "name": "python",
   "nbconvert_exporter": "python",
   "pygments_lexer": "ipython2",
   "version": "2.7.6"
  }
 },
 "nbformat": 4,
 "nbformat_minor": 5
}
