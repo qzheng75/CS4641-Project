{
 "cells": [
  {
   "cell_type": "code",
   "execution_count": 1,
   "metadata": {},
   "outputs": [],
   "source": [
    "import sys\n",
    "\n",
    "sys.path.append('..')"
   ]
  },
  {
   "cell_type": "code",
   "execution_count": 2,
   "metadata": {},
   "outputs": [],
   "source": [
    "import torch\n",
    "\n",
    "device = 'cuda:2' if torch.cuda.is_available() else 'cpu' \n",
    "data = torch.load('../processed_data/complete_dataset/processed_data.pt')\n",
    "label = torch.load('../processed_data/complete_dataset/processed_label.pt')"
   ]
  },
  {
   "cell_type": "code",
   "execution_count": 3,
   "metadata": {},
   "outputs": [],
   "source": [
    "from audio_toolbox.metrics import audio_dataset_split\n",
    "\n",
    "RANDOM_STATE = 42\n",
    "X_train, y_train, X_val, y_val,\\\n",
    "X_test, y_test = audio_dataset_split(data, label, train_val_test_ratio=(0.9, 0.05, 0.05), random_state=RANDOM_STATE)"
   ]
  },
  {
   "cell_type": "code",
   "execution_count": 4,
   "metadata": {},
   "outputs": [],
   "source": [
    "X_train_flat = X_train.view(X_train.shape[0], -1)\n",
    "X_val_flat = X_val.view(X_val.shape[0], -1)\n",
    "X_test_flat = X_test.view(X_test.shape[0], -1)"
   ]
  },
  {
   "cell_type": "code",
   "execution_count": 5,
   "metadata": {},
   "outputs": [],
   "source": [
    "from sklearn.decomposition import PCA\n",
    "from sklearn.preprocessing import StandardScaler\n",
    "\n",
    "scaler = StandardScaler()\n",
    "pca = PCA(n_components=0.9)\n",
    "\n",
    "train_scaled = scaler.fit_transform(X_train_flat)\n",
    "val_scaled = scaler.transform(X_val_flat)\n",
    "test_scaled = scaler.transform(X_test_flat)\n",
    "\n",
    "train_data = torch.tensor(pca.fit_transform(train_scaled), dtype=torch.float, device=device)\n",
    "val_data = torch.tensor(pca.transform(val_scaled), dtype=torch.float, device=device)\n",
    "test_data = torch.tensor(pca.transform(test_scaled), dtype=torch.float, device=device)\n",
    "y_train = y_train.to(device)\n",
    "y_val = y_val.to(device)\n",
    "y_test = y_test.to(device)"
   ]
  },
  {
   "cell_type": "code",
   "execution_count": 6,
   "metadata": {},
   "outputs": [],
   "source": [
    "from torch.utils.data import TensorDataset\n",
    "\n",
    "datasets = {\n",
    "    'train': TensorDataset(train_data, y_train),\n",
    "    'val': TensorDataset(val_data, y_val),\n",
    "    'test': TensorDataset(test_data, y_test)\n",
    "}"
   ]
  },
  {
   "cell_type": "code",
   "execution_count": 34,
   "metadata": {},
   "outputs": [],
   "source": [
    "from audio_toolbox.models import LinearModel\n",
    "\n",
    "input_size = train_data.size(1)\n",
    "output_size = 10\n",
    "batch_size = 32\n",
    "\n",
    "model = LinearModel(input_size, output_size, hidden_dim=64, dropout_prob=0.3, device=device)\n"
   ]
  },
  {
   "cell_type": "code",
   "execution_count": 35,
   "metadata": {},
   "outputs": [],
   "source": [
    "import torch.optim as optim\n",
    "import torch.optim.lr_scheduler as lr_scheduler\n",
    "from torch import nn\n",
    "\n",
    "loss_fn = nn.CrossEntropyLoss()\n",
    "learning_rate = 1e-3  # Adjust the learning rate as needed\n",
    "optimizer = optim.Adam(model.parameters(), lr=learning_rate)\n",
    "scheduler = lr_scheduler.StepLR(optimizer, step_size=5, gamma=0.5)"
   ]
  },
  {
   "cell_type": "code",
   "execution_count": 36,
   "metadata": {},
   "outputs": [],
   "source": [
    "from audio_toolbox.trainer import ModelTrainer\n",
    "\n",
    "trainer = ModelTrainer(datasets, model, loss_fn, optimizer, scheduler)"
   ]
  },
  {
   "cell_type": "code",
   "execution_count": 37,
   "metadata": {},
   "outputs": [],
   "source": [
    "trainer_config = {\n",
    "    'save': False,\n",
    "    'num_epochs': 100,\n",
    "    'batch_size': batch_size,\n",
    "}"
   ]
  },
  {
   "cell_type": "code",
   "execution_count": 38,
   "metadata": {},
   "outputs": [
    {
     "name": "stderr",
     "output_type": "stream",
     "text": [
      "INFO:root:Epoch 0001, Learning rate: 0.001000, Training metric: 0.32651, Val metric: 0.28952, Test metric: 0.24095, Epoch time: 0.05884\n",
      "INFO:root:Epoch 0002, Learning rate: 0.001000, Training metric: 0.49677, Val metric: 0.27574, Test metric: 0.34539, Epoch time: 0.05715\n",
      "INFO:root:Epoch 0003, Learning rate: 0.001000, Training metric: 0.60057, Val metric: 0.37776, Test metric: 0.40789, Epoch time: 0.05802\n",
      "INFO:root:Epoch 0004, Learning rate: 0.001000, Training metric: 0.71695, Val metric: 0.39706, Test metric: 0.45559, Epoch time: 0.05753\n"
     ]
    },
    {
     "name": "stderr",
     "output_type": "stream",
     "text": [
      "INFO:root:Epoch 0005, Learning rate: 0.001000, Training metric: 0.82004, Val metric: 0.48346, Test metric: 0.53454, Epoch time: 0.05630\n",
      "INFO:root:Epoch 0006, Learning rate: 0.000500, Training metric: 0.83549, Val metric: 0.45404, Test metric: 0.48684, Epoch time: 0.05899\n",
      "INFO:root:Epoch 0007, Learning rate: 0.000500, Training metric: 0.89476, Val metric: 0.42647, Test metric: 0.52385, Epoch time: 0.07901\n",
      "INFO:root:Epoch 0008, Learning rate: 0.000500, Training metric: 0.93139, Val metric: 0.42647, Test metric: 0.56579, Epoch time: 0.07114\n",
      "INFO:root:Epoch 0009, Learning rate: 0.000500, Training metric: 0.95366, Val metric: 0.44210, Test metric: 0.50247, Epoch time: 0.06398\n",
      "INFO:root:Epoch 0010, Learning rate: 0.000500, Training metric: 0.97198, Val metric: 0.41268, Test metric: 0.51809, Epoch time: 0.05617\n",
      "INFO:root:Epoch 0011, Learning rate: 0.000250, Training metric: 0.97845, Val metric: 0.36949, Test metric: 0.55016, Epoch time: 0.05650\n",
      "INFO:root:Epoch 0012, Learning rate: 0.000250, Training metric: 0.98491, Val metric: 0.44026, Test metric: 0.53372, Epoch time: 0.05794\n",
      "INFO:root:Epoch 0013, Learning rate: 0.000250, Training metric: 0.98815, Val metric: 0.41085, Test metric: 0.52878, Epoch time: 0.05750\n",
      "INFO:root:Epoch 0014, Learning rate: 0.000250, Training metric: 0.99138, Val metric: 0.43842, Test metric: 0.52878, Epoch time: 0.08020\n",
      "INFO:root:Epoch 0015, Learning rate: 0.000250, Training metric: 0.99138, Val metric: 0.39522, Test metric: 0.51809, Epoch time: 0.06686\n",
      "INFO:root:Epoch 0016, Learning rate: 0.000125, Training metric: 0.99030, Val metric: 0.40901, Test metric: 0.52878, Epoch time: 0.06787\n",
      "INFO:root:Epoch 0017, Learning rate: 0.000125, Training metric: 0.99030, Val metric: 0.40901, Test metric: 0.51316, Epoch time: 0.07540\n",
      "INFO:root:Epoch 0018, Learning rate: 0.000125, Training metric: 0.99138, Val metric: 0.39522, Test metric: 0.50164, Epoch time: 0.06810\n",
      "INFO:root:Epoch 0019, Learning rate: 0.000125, Training metric: 0.99138, Val metric: 0.39522, Test metric: 0.51809, Epoch time: 0.07201\n",
      "INFO:root:Epoch 0020, Learning rate: 0.000125, Training metric: 0.99138, Val metric: 0.38143, Test metric: 0.51809, Epoch time: 0.07142\n",
      "INFO:root:Epoch 0021, Learning rate: 0.000063, Training metric: 0.99138, Val metric: 0.36765, Test metric: 0.56086, Epoch time: 0.06761\n",
      "INFO:root:Epoch 0022, Learning rate: 0.000063, Training metric: 0.99138, Val metric: 0.38143, Test metric: 0.50740, Epoch time: 0.06350\n",
      "INFO:root:Epoch 0023, Learning rate: 0.000063, Training metric: 0.99138, Val metric: 0.45037, Test metric: 0.51809, Epoch time: 0.06751\n",
      "INFO:root:Epoch 0024, Learning rate: 0.000063, Training metric: 0.98096, Val metric: 0.40901, Test metric: 0.51809, Epoch time: 0.07220\n",
      "INFO:root:Epoch 0025, Learning rate: 0.000063, Training metric: 0.99246, Val metric: 0.38143, Test metric: 0.53454, Epoch time: 0.06559\n",
      "INFO:root:Epoch 0026, Learning rate: 0.000031, Training metric: 0.99246, Val metric: 0.38143, Test metric: 0.52385, Epoch time: 0.07916\n",
      "INFO:root:Epoch 0027, Learning rate: 0.000031, Training metric: 0.99246, Val metric: 0.40901, Test metric: 0.49178, Epoch time: 0.07342\n",
      "INFO:root:Epoch 0028, Learning rate: 0.000031, Training metric: 0.99353, Val metric: 0.39522, Test metric: 0.49178, Epoch time: 0.06858\n",
      "INFO:root:Epoch 0029, Learning rate: 0.000031, Training metric: 0.99353, Val metric: 0.40901, Test metric: 0.53947, Epoch time: 0.07518\n",
      "INFO:root:Epoch 0030, Learning rate: 0.000031, Training metric: 0.99353, Val metric: 0.39522, Test metric: 0.55016, Epoch time: 0.06778\n",
      "INFO:root:Epoch 0031, Learning rate: 0.000016, Training metric: 0.99353, Val metric: 0.40901, Test metric: 0.56086, Epoch time: 0.06799\n",
      "INFO:root:Epoch 0032, Learning rate: 0.000016, Training metric: 0.99353, Val metric: 0.39522, Test metric: 0.52878, Epoch time: 0.07142\n",
      "INFO:root:Epoch 0033, Learning rate: 0.000016, Training metric: 0.99353, Val metric: 0.42279, Test metric: 0.53947, Epoch time: 0.07339\n",
      "INFO:root:Epoch 0034, Learning rate: 0.000016, Training metric: 0.99353, Val metric: 0.43658, Test metric: 0.50740, Epoch time: 0.06918\n",
      "INFO:root:Epoch 0035, Learning rate: 0.000016, Training metric: 0.99353, Val metric: 0.42279, Test metric: 0.51809, Epoch time: 0.07149\n",
      "INFO:root:Epoch 0036, Learning rate: 0.000008, Training metric: 0.99353, Val metric: 0.40901, Test metric: 0.51809, Epoch time: 0.06193\n",
      "INFO:root:Epoch 0037, Learning rate: 0.000008, Training metric: 0.99353, Val metric: 0.40901, Test metric: 0.51316, Epoch time: 0.05504\n",
      "INFO:root:Epoch 0038, Learning rate: 0.000008, Training metric: 0.99353, Val metric: 0.39522, Test metric: 0.50247, Epoch time: 0.05561\n",
      "INFO:root:Epoch 0039, Learning rate: 0.000008, Training metric: 0.99353, Val metric: 0.40901, Test metric: 0.51809, Epoch time: 0.05785\n",
      "INFO:root:Epoch 0040, Learning rate: 0.000008, Training metric: 0.99353, Val metric: 0.39522, Test metric: 0.49671, Epoch time: 0.05563\n",
      "INFO:root:Epoch 0041, Learning rate: 0.000004, Training metric: 0.99353, Val metric: 0.42279, Test metric: 0.53454, Epoch time: 0.05765\n",
      "INFO:root:Epoch 0042, Learning rate: 0.000004, Training metric: 0.99353, Val metric: 0.40901, Test metric: 0.53454, Epoch time: 0.05882\n",
      "INFO:root:Epoch 0043, Learning rate: 0.000004, Training metric: 0.99353, Val metric: 0.43658, Test metric: 0.49178, Epoch time: 0.05638\n",
      "INFO:root:Epoch 0044, Learning rate: 0.000004, Training metric: 0.99353, Val metric: 0.43658, Test metric: 0.51316, Epoch time: 0.06032\n",
      "INFO:root:Epoch 0045, Learning rate: 0.000004, Training metric: 0.99353, Val metric: 0.38143, Test metric: 0.51316, Epoch time: 0.05942\n",
      "INFO:root:Epoch 0046, Learning rate: 0.000002, Training metric: 0.99353, Val metric: 0.42279, Test metric: 0.53454, Epoch time: 0.05850\n",
      "INFO:root:Epoch 0047, Learning rate: 0.000002, Training metric: 0.99353, Val metric: 0.39522, Test metric: 0.51316, Epoch time: 0.05767\n",
      "INFO:root:Epoch 0048, Learning rate: 0.000002, Training metric: 0.99353, Val metric: 0.41085, Test metric: 0.52385, Epoch time: 0.05850\n",
      "INFO:root:Epoch 0049, Learning rate: 0.000002, Training metric: 0.99353, Val metric: 0.42463, Test metric: 0.50247, Epoch time: 0.05808\n",
      "INFO:root:Epoch 0050, Learning rate: 0.000002, Training metric: 0.99353, Val metric: 0.42463, Test metric: 0.50247, Epoch time: 0.05799\n",
      "INFO:root:Epoch 0051, Learning rate: 0.000001, Training metric: 0.99353, Val metric: 0.42463, Test metric: 0.51316, Epoch time: 0.05848\n",
      "INFO:root:Epoch 0052, Learning rate: 0.000001, Training metric: 0.99353, Val metric: 0.43842, Test metric: 0.50247, Epoch time: 0.05619\n",
      "INFO:root:Epoch 0053, Learning rate: 0.000001, Training metric: 0.99353, Val metric: 0.45221, Test metric: 0.53454, Epoch time: 0.05929\n",
      "INFO:root:Epoch 0054, Learning rate: 0.000001, Training metric: 0.99353, Val metric: 0.41085, Test metric: 0.55592, Epoch time: 0.05734\n",
      "INFO:root:Epoch 0055, Learning rate: 0.000001, Training metric: 0.99353, Val metric: 0.38327, Test metric: 0.50247, Epoch time: 0.05632\n",
      "INFO:root:Epoch 0056, Learning rate: 0.000000, Training metric: 0.99353, Val metric: 0.43842, Test metric: 0.52385, Epoch time: 0.05661\n",
      "INFO:root:Epoch 0057, Learning rate: 0.000000, Training metric: 0.99353, Val metric: 0.45221, Test metric: 0.53454, Epoch time: 0.05651\n",
      "INFO:root:Epoch 0058, Learning rate: 0.000000, Training metric: 0.99353, Val metric: 0.39706, Test metric: 0.50247, Epoch time: 0.06221\n",
      "INFO:root:Epoch 0059, Learning rate: 0.000000, Training metric: 0.99353, Val metric: 0.39706, Test metric: 0.52385, Epoch time: 0.05765\n",
      "INFO:root:Epoch 0060, Learning rate: 0.000000, Training metric: 0.99353, Val metric: 0.42463, Test metric: 0.51316, Epoch time: 0.05627\n",
      "INFO:root:Epoch 0061, Learning rate: 0.000000, Training metric: 0.99353, Val metric: 0.45221, Test metric: 0.51316, Epoch time: 0.06889\n",
      "INFO:root:Epoch 0062, Learning rate: 0.000000, Training metric: 0.99353, Val metric: 0.45221, Test metric: 0.54523, Epoch time: 0.06776\n",
      "INFO:root:Epoch 0063, Learning rate: 0.000000, Training metric: 0.99353, Val metric: 0.45221, Test metric: 0.52385, Epoch time: 0.06525\n",
      "INFO:root:Epoch 0064, Learning rate: 0.000000, Training metric: 0.99353, Val metric: 0.42463, Test metric: 0.53454, Epoch time: 0.05814\n",
      "INFO:root:Epoch 0065, Learning rate: 0.000000, Training metric: 0.99353, Val metric: 0.43842, Test metric: 0.50247, Epoch time: 0.05779\n",
      "INFO:root:Epoch 0066, Learning rate: 0.000000, Training metric: 0.99353, Val metric: 0.43842, Test metric: 0.53454, Epoch time: 0.05739\n",
      "INFO:root:Epoch 0067, Learning rate: 0.000000, Training metric: 0.99353, Val metric: 0.41085, Test metric: 0.51316, Epoch time: 0.06051\n",
      "INFO:root:Epoch 0068, Learning rate: 0.000000, Training metric: 0.99353, Val metric: 0.42463, Test metric: 0.51316, Epoch time: 0.05791\n",
      "INFO:root:Epoch 0069, Learning rate: 0.000000, Training metric: 0.99353, Val metric: 0.50735, Test metric: 0.51316, Epoch time: 0.05562\n",
      "INFO:root:Epoch 0070, Learning rate: 0.000000, Training metric: 0.99353, Val metric: 0.39706, Test metric: 0.51316, Epoch time: 0.06202\n",
      "INFO:root:Epoch 0071, Learning rate: 0.000000, Training metric: 0.99353, Val metric: 0.43842, Test metric: 0.52385, Epoch time: 0.05737\n",
      "INFO:root:Epoch 0072, Learning rate: 0.000000, Training metric: 0.99353, Val metric: 0.41085, Test metric: 0.54523, Epoch time: 0.05677\n",
      "INFO:root:Epoch 0073, Learning rate: 0.000000, Training metric: 0.99353, Val metric: 0.36949, Test metric: 0.48109, Epoch time: 0.05826\n",
      "INFO:root:Epoch 0074, Learning rate: 0.000000, Training metric: 0.99353, Val metric: 0.45221, Test metric: 0.53454, Epoch time: 0.05646\n",
      "INFO:root:Epoch 0075, Learning rate: 0.000000, Training metric: 0.99353, Val metric: 0.41085, Test metric: 0.53454, Epoch time: 0.05748\n",
      "INFO:root:Epoch 0076, Learning rate: 0.000000, Training metric: 0.99353, Val metric: 0.41085, Test metric: 0.50247, Epoch time: 0.05812\n",
      "INFO:root:Epoch 0077, Learning rate: 0.000000, Training metric: 0.99353, Val metric: 0.39706, Test metric: 0.55592, Epoch time: 0.06386\n",
      "INFO:root:Epoch 0078, Learning rate: 0.000000, Training metric: 0.99353, Val metric: 0.43842, Test metric: 0.52385, Epoch time: 0.05740\n",
      "INFO:root:Epoch 0079, Learning rate: 0.000000, Training metric: 0.99353, Val metric: 0.38327, Test metric: 0.49178, Epoch time: 0.05713\n",
      "INFO:root:Epoch 0080, Learning rate: 0.000000, Training metric: 0.99353, Val metric: 0.42463, Test metric: 0.49178, Epoch time: 0.05761\n",
      "INFO:root:Epoch 0081, Learning rate: 0.000000, Training metric: 0.99353, Val metric: 0.43842, Test metric: 0.52385, Epoch time: 0.05530\n",
      "INFO:root:Epoch 0082, Learning rate: 0.000000, Training metric: 0.99353, Val metric: 0.41085, Test metric: 0.50247, Epoch time: 0.05547\n",
      "INFO:root:Epoch 0083, Learning rate: 0.000000, Training metric: 0.99353, Val metric: 0.43842, Test metric: 0.51316, Epoch time: 0.05605\n",
      "INFO:root:Epoch 0084, Learning rate: 0.000000, Training metric: 0.99353, Val metric: 0.42463, Test metric: 0.52385, Epoch time: 0.05911\n",
      "INFO:root:Epoch 0085, Learning rate: 0.000000, Training metric: 0.99353, Val metric: 0.47978, Test metric: 0.51316, Epoch time: 0.05796\n",
      "INFO:root:Epoch 0086, Learning rate: 0.000000, Training metric: 0.99353, Val metric: 0.43842, Test metric: 0.48109, Epoch time: 0.05636\n",
      "INFO:root:Epoch 0087, Learning rate: 0.000000, Training metric: 0.99353, Val metric: 0.42463, Test metric: 0.53454, Epoch time: 0.05931\n",
      "INFO:root:Epoch 0088, Learning rate: 0.000000, Training metric: 0.99353, Val metric: 0.42463, Test metric: 0.50247, Epoch time: 0.05638\n",
      "INFO:root:Epoch 0089, Learning rate: 0.000000, Training metric: 0.99353, Val metric: 0.41085, Test metric: 0.50247, Epoch time: 0.05769\n",
      "INFO:root:Epoch 0090, Learning rate: 0.000000, Training metric: 0.99353, Val metric: 0.42463, Test metric: 0.52385, Epoch time: 0.05650\n",
      "INFO:root:Epoch 0091, Learning rate: 0.000000, Training metric: 0.99353, Val metric: 0.43842, Test metric: 0.49178, Epoch time: 0.05998\n",
      "INFO:root:Epoch 0092, Learning rate: 0.000000, Training metric: 0.99353, Val metric: 0.45221, Test metric: 0.54523, Epoch time: 0.05588\n",
      "INFO:root:Epoch 0093, Learning rate: 0.000000, Training metric: 0.99353, Val metric: 0.43842, Test metric: 0.52385, Epoch time: 0.05779\n",
      "INFO:root:Epoch 0094, Learning rate: 0.000000, Training metric: 0.99353, Val metric: 0.41085, Test metric: 0.50247, Epoch time: 0.05640\n",
      "INFO:root:Epoch 0095, Learning rate: 0.000000, Training metric: 0.99353, Val metric: 0.45221, Test metric: 0.50247, Epoch time: 0.06017\n",
      "INFO:root:Epoch 0096, Learning rate: 0.000000, Training metric: 0.99353, Val metric: 0.42463, Test metric: 0.50247, Epoch time: 0.05759\n",
      "INFO:root:Epoch 0097, Learning rate: 0.000000, Training metric: 0.99353, Val metric: 0.39706, Test metric: 0.49178, Epoch time: 0.05659\n",
      "INFO:root:Epoch 0098, Learning rate: 0.000000, Training metric: 0.99353, Val metric: 0.42463, Test metric: 0.53454, Epoch time: 0.05679\n",
      "INFO:root:Epoch 0099, Learning rate: 0.000000, Training metric: 0.98312, Val metric: 0.41085, Test metric: 0.48109, Epoch time: 0.05664\n",
      "INFO:root:Epoch 0100, Learning rate: 0.000000, Training metric: 0.99353, Val metric: 0.43842, Test metric: 0.50247, Epoch time: 0.05673\n",
      "INFO:root:Best model at epoch 0069 with validation metric 0.50735\n"
     ]
    }
   ],
   "source": [
    "best_state_dict = trainer.train(**trainer_config)"
   ]
  },
  {
   "cell_type": "code",
   "execution_count": 39,
   "metadata": {},
   "outputs": [],
   "source": [
    "train_res = trainer.predict(train_data).cpu().numpy()\n",
    "val_res = trainer.predict(val_data).cpu().numpy()\n",
    "test_res = trainer.predict(test_data).cpu().numpy()"
   ]
  },
  {
   "cell_type": "code",
   "execution_count": 40,
   "metadata": {},
   "outputs": [
    {
     "name": "stdout",
     "output_type": "stream",
     "text": [
      "Train accuracy: 99.33%\n",
      "Validation accuracy: 42.86%\n",
      "Test accuracy: 50.98%\n"
     ]
    }
   ],
   "source": [
    "from sklearn.metrics import accuracy_score\n",
    "\n",
    "print(f\"Train accuracy: {100 * accuracy_score(train_res, y_train.cpu().numpy()):.2f}%\")\n",
    "print(f\"Validation accuracy: {100 * accuracy_score(val_res, y_val.cpu().numpy()):.2f}%\")\n",
    "print(f\"Test accuracy: {100 * accuracy_score(test_res, y_test.cpu().numpy()):.2f}%\")"
   ]
  },
  {
   "cell_type": "code",
   "execution_count": 41,
   "metadata": {},
   "outputs": [
    {
     "name": "stderr",
     "output_type": "stream",
     "text": [
      "/nethome/qzheng75/miniconda3/envs/project_env/lib/python3.11/site-packages/sklearn/metrics/_classification.py:1509: UndefinedMetricWarning: Precision is ill-defined and being set to 0.0 in labels with no predicted samples. Use `zero_division` parameter to control this behavior.\n",
      "  _warn_prf(average, modifier, f\"{metric.capitalize()} is\", len(result))\n"
     ]
    }
   ],
   "source": [
    "from audio_toolbox.metrics import precision_recall\n",
    "\n",
    "_, _, _, f1_train = precision_recall(trainer, train_data, y_train)\n",
    "_, _, _, f1_val = precision_recall(trainer, val_data, y_val)\n",
    "_, _, _, f1_test = precision_recall(trainer, test_data, y_test)"
   ]
  },
  {
   "cell_type": "code",
   "execution_count": 42,
   "metadata": {},
   "outputs": [
    {
     "name": "stdout",
     "output_type": "stream",
     "text": [
      "Train f1 score: 0.9934\n",
      "Validation f1 score: 0.3939\n",
      "Test f1 score: 0.4517\n"
     ]
    }
   ],
   "source": [
    "print(f\"Train f1 score: {f1_train:.4f}\")\n",
    "print(f\"Validation f1 score: {f1_val:.4f}\")\n",
    "print(f\"Test f1 score: {f1_test:.4f}\")"
   ]
  },
  {
   "cell_type": "code",
   "execution_count": null,
   "metadata": {},
   "outputs": [],
   "source": []
  }
 ],
 "metadata": {
  "kernelspec": {
   "display_name": ".venv",
   "language": "python",
   "name": "python3"
  },
  "language_info": {
   "codemirror_mode": {
    "name": "ipython",
    "version": 3
   },
   "file_extension": ".py",
   "mimetype": "text/x-python",
   "name": "python",
   "nbconvert_exporter": "python",
   "pygments_lexer": "ipython3",
   "version": "3.11.8"
  }
 },
 "nbformat": 4,
 "nbformat_minor": 2
}
