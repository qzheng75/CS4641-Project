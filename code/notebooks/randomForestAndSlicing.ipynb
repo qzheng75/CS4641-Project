{
 "cells": [
  {
   "cell_type": "code",
   "execution_count": 7,
   "id": "initial_id",
   "metadata": {
    "collapsed": true,
    "ExecuteTime": {
     "end_time": "2024-04-03T00:40:17.670455300Z",
     "start_time": "2024-04-03T00:40:17.605427700Z"
    }
   },
   "outputs": [],
   "source": [
    "import sys\n",
    "import os\n",
    "import pandas as pd\n",
    "import numpy as np\n",
    "from sklearn.ensemble import RandomForestClassifier\n",
    "from sklearn.model_selection import train_test_split\n",
    "\n",
    "sys.path.append('..')\n",
    "from audio_toolbox.metrics import splitTabularPredicting\n",
    "\n",
    "audio_root_folder = '../archive/Data'\n",
    "labels_csv = os.path.join(audio_root_folder, 'data.csv')\n",
    "unslicedData = pd.read_csv(labels_csv, header=0)\n",
    "slicedCSV = os.path.join(audio_root_folder, 'features.csv')\n",
    "slicedDataSet = pd.read_csv(slicedCSV, header=0)\n",
    "label = unslicedData['label']\n",
    "unslicedData = unslicedData.sample(frac=1).reset_index(drop=True)"
   ]
  },
  {
   "cell_type": "code",
   "execution_count": 8,
   "outputs": [],
   "source": [
    "#from sklearn.preprocessing import StandardScaler\n",
    "\n",
    "#scalar = StandardScaler()"
   ],
   "metadata": {
    "collapsed": false,
    "ExecuteTime": {
     "end_time": "2024-04-03T00:40:17.686109900Z",
     "start_time": "2024-04-03T00:40:17.671455200Z"
    }
   },
   "id": "602825d3fbc3d85"
  },
  {
   "cell_type": "code",
   "execution_count": 9,
   "outputs": [],
   "source": [
    "#generate the testing data folds\n",
    "K = 5\n",
    "testDataFolds = []\n",
    "length = len(unslicedData)\n",
    "slice_size = length // K\n",
    "start_index = 0\n",
    "for i in range(K):\n",
    "    end_index = min(start_index + slice_size, length)\n",
    "    fold = unslicedData.iloc[start_index: end_index]\n",
    "    start_index = end_index\n",
    "    testDataFolds.append(fold)"
   ],
   "metadata": {
    "collapsed": false,
    "ExecuteTime": {
     "end_time": "2024-04-03T00:40:17.702389900Z",
     "start_time": "2024-04-03T00:40:17.687110200Z"
    }
   },
   "id": "87c452ac57bdc25d"
  },
  {
   "cell_type": "code",
   "execution_count": 10,
   "outputs": [],
   "source": [
    "#generate the training data folds\n",
    "trainData = []\n",
    "for i in range(K):\n",
    "    index = testDataFolds[i]['index']\n",
    "    trainData.append(slicedDataSet[~slicedDataSet['index'].isin(index)])"
   ],
   "metadata": {
    "collapsed": false,
    "ExecuteTime": {
     "end_time": "2024-04-03T00:40:17.717010700Z",
     "start_time": "2024-04-03T00:40:17.702389900Z"
    }
   },
   "id": "91127a6d4f7610c"
  },
  {
   "cell_type": "code",
   "execution_count": 11,
   "outputs": [
    {
     "name": "stderr",
     "output_type": "stream",
     "text": [
      "C:\\Users\\Hao Hu\\AppData\\Local\\Temp\\ipykernel_34032\\140797405.py:15: SettingWithCopyWarning: \n",
      "A value is trying to be set on a copy of a slice from a DataFrame\n",
      "\n",
      "See the caveats in the documentation: https://pandas.pydata.org/pandas-docs/stable/user_guide/indexing.html#returning-a-view-versus-a-copy\n",
      "  X_train.drop(['label','index'], axis=1, inplace=True)\n"
     ]
    },
    {
     "name": "stdout",
     "output_type": "stream",
     "text": [
      "training accuracy: 0.9987490617963473\n"
     ]
    },
    {
     "name": "stderr",
     "output_type": "stream",
     "text": [
      "C:\\Users\\Hao Hu\\AppData\\Local\\Temp\\ipykernel_34032\\140797405.py:15: SettingWithCopyWarning: \n",
      "A value is trying to be set on a copy of a slice from a DataFrame\n",
      "\n",
      "See the caveats in the documentation: https://pandas.pydata.org/pandas-docs/stable/user_guide/indexing.html#returning-a-view-versus-a-copy\n",
      "  X_train.drop(['label','index'], axis=1, inplace=True)\n"
     ]
    },
    {
     "name": "stdout",
     "output_type": "stream",
     "text": [
      "training accuracy: 0.998623967975982\n"
     ]
    },
    {
     "name": "stderr",
     "output_type": "stream",
     "text": [
      "C:\\Users\\Hao Hu\\AppData\\Local\\Temp\\ipykernel_34032\\140797405.py:15: SettingWithCopyWarning: \n",
      "A value is trying to be set on a copy of a slice from a DataFrame\n",
      "\n",
      "See the caveats in the documentation: https://pandas.pydata.org/pandas-docs/stable/user_guide/indexing.html#returning-a-view-versus-a-copy\n",
      "  X_train.drop(['label','index'], axis=1, inplace=True)\n"
     ]
    },
    {
     "name": "stdout",
     "output_type": "stream",
     "text": [
      "training accuracy: 1.0\n"
     ]
    },
    {
     "name": "stderr",
     "output_type": "stream",
     "text": [
      "C:\\Users\\Hao Hu\\AppData\\Local\\Temp\\ipykernel_34032\\140797405.py:15: SettingWithCopyWarning: \n",
      "A value is trying to be set on a copy of a slice from a DataFrame\n",
      "\n",
      "See the caveats in the documentation: https://pandas.pydata.org/pandas-docs/stable/user_guide/indexing.html#returning-a-view-versus-a-copy\n",
      "  X_train.drop(['label','index'], axis=1, inplace=True)\n"
     ]
    },
    {
     "name": "stdout",
     "output_type": "stream",
     "text": [
      "training accuracy: 0.9986237958213436\n"
     ]
    },
    {
     "name": "stderr",
     "output_type": "stream",
     "text": [
      "C:\\Users\\Hao Hu\\AppData\\Local\\Temp\\ipykernel_34032\\140797405.py:15: SettingWithCopyWarning: \n",
      "A value is trying to be set on a copy of a slice from a DataFrame\n",
      "\n",
      "See the caveats in the documentation: https://pandas.pydata.org/pandas-docs/stable/user_guide/indexing.html#returning-a-view-versus-a-copy\n",
      "  X_train.drop(['label','index'], axis=1, inplace=True)\n"
     ]
    },
    {
     "name": "stdout",
     "output_type": "stream",
     "text": [
      "training accuracy: 0.9986234513828056\n"
     ]
    }
   ],
   "source": [
    "#model training\n",
    "from sklearn.svm import SVC\n",
    "from sklearn.ensemble import RandomForestClassifier\n",
    "from sklearn.linear_model import LogisticRegression\n",
    "from sklearn.metrics import accuracy_score\n",
    "\n",
    "model = RandomForestClassifier(max_depth = 15, max_features = 5)\n",
    "#model = LogisticRegression(max_iter=1000, C=1e-3)\n",
    "#model = SVC(decision_function_shape='ovo')\n",
    "\n",
    "predictions = []\n",
    "for i in range(K):\n",
    "    X_train = trainData[i]\n",
    "    label = X_train['label']\n",
    "    X_train.drop(['label','index'], axis=1, inplace=True)\n",
    "    model.fit(X_train, label)\n",
    "    trainAccuracy = accuracy_score(model.predict(X_train), label)\n",
    "    print(f\"training accuracy: {trainAccuracy}\")\n",
    "    prediction= splitTabularPredicting(model, testDataFolds[i], slicedDataSet)\n",
    "    predictions.append(prediction)"
   ],
   "metadata": {
    "collapsed": false,
    "ExecuteTime": {
     "end_time": "2024-04-03T00:40:32.287101Z",
     "start_time": "2024-04-03T00:40:17.717010700Z"
    }
   },
   "id": "f97cd40291c7b8ec"
  },
  {
   "cell_type": "code",
   "execution_count": 12,
   "outputs": [
    {
     "name": "stdout",
     "output_type": "stream",
     "text": [
      "Mean Accuracy: 0.7326633165829146\n"
     ]
    }
   ],
   "source": [
    "#average accuracy\n",
    "accuracies = []\n",
    "for i in range(K):\n",
    "    testLabel = testDataFolds[i]['label']\n",
    "    prediction = predictions[i]\n",
    "    accuracy = accuracy_score(testLabel, prediction)\n",
    "    accuracies.append(accuracy)\n",
    "\n",
    "mean_accuracy = np.mean(accuracies)\n",
    "print(f\"Mean Accuracy: {mean_accuracy}\")"
   ],
   "metadata": {
    "collapsed": false,
    "ExecuteTime": {
     "end_time": "2024-04-03T00:40:32.302444200Z",
     "start_time": "2024-04-03T00:40:32.290109600Z"
    }
   },
   "id": "a57d7e5e03d0e89a"
  }
 ],
 "metadata": {
  "kernelspec": {
   "display_name": "Python 3",
   "language": "python",
   "name": "python3"
  },
  "language_info": {
   "codemirror_mode": {
    "name": "ipython",
    "version": 2
   },
   "file_extension": ".py",
   "mimetype": "text/x-python",
   "name": "python",
   "nbconvert_exporter": "python",
   "pygments_lexer": "ipython2",
   "version": "2.7.6"
  }
 },
 "nbformat": 4,
 "nbformat_minor": 5
}
