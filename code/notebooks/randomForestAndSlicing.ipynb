{
 "cells": [
  {
   "cell_type": "code",
   "execution_count": 10,
   "id": "initial_id",
   "metadata": {
    "collapsed": true,
    "ExecuteTime": {
     "end_time": "2024-04-03T02:33:02.450826900Z",
     "start_time": "2024-04-03T02:33:02.377960500Z"
    }
   },
   "outputs": [],
   "source": [
    "import sys\n",
    "import os\n",
    "import pandas as pd\n",
    "import numpy as np\n",
    "from sklearn.ensemble import RandomForestClassifier\n",
    "from sklearn.model_selection import train_test_split\n",
    "\n",
    "sys.path.append('..')\n",
    "from audio_toolbox.metrics import splitTabularPredicting\n",
    "\n",
    "audio_root_folder = '../archive/Data'\n",
    "labels_csv = os.path.join(audio_root_folder, 'data.csv')\n",
    "unslicedData = pd.read_csv(labels_csv, header=0)\n",
    "slicedCSV = os.path.join(audio_root_folder, 'features.csv')\n",
    "slicedDataSet = pd.read_csv(slicedCSV, header=0)\n",
    "label = unslicedData['label']\n",
    "unslicedData = unslicedData.sample(frac=1).reset_index(drop=True)"
   ]
  },
  {
   "cell_type": "code",
   "execution_count": 11,
   "outputs": [],
   "source": [
    "#from sklearn.preprocessing import StandardScaler\n",
    "\n",
    "#scalar = StandardScaler()"
   ],
   "metadata": {
    "collapsed": false,
    "ExecuteTime": {
     "end_time": "2024-04-03T02:33:02.465271400Z",
     "start_time": "2024-04-03T02:33:02.451827600Z"
    }
   },
   "id": "602825d3fbc3d85"
  },
  {
   "cell_type": "code",
   "execution_count": 12,
   "outputs": [],
   "source": [
    "#generate the testing data folds\n",
    "K = 5\n",
    "testDataFolds = []\n",
    "length = len(unslicedData)\n",
    "slice_size = length // K\n",
    "start_index = 0\n",
    "for i in range(K):\n",
    "    end_index = min(start_index + slice_size, length)\n",
    "    fold = unslicedData.iloc[start_index: end_index]\n",
    "    start_index = end_index\n",
    "    testDataFolds.append(fold)"
   ],
   "metadata": {
    "collapsed": false,
    "ExecuteTime": {
     "end_time": "2024-04-03T02:33:02.482305900Z",
     "start_time": "2024-04-03T02:33:02.465271400Z"
    }
   },
   "id": "87c452ac57bdc25d"
  },
  {
   "cell_type": "code",
   "execution_count": 13,
   "outputs": [],
   "source": [
    "#generate the training data folds\n",
    "trainData = []\n",
    "for i in range(K):\n",
    "    index = testDataFolds[i]['index']\n",
    "    trainData.append(slicedDataSet[~slicedDataSet['index'].isin(index)])"
   ],
   "metadata": {
    "collapsed": false,
    "ExecuteTime": {
     "end_time": "2024-04-03T02:33:02.497008500Z",
     "start_time": "2024-04-03T02:33:02.483306Z"
    }
   },
   "id": "91127a6d4f7610c"
  },
  {
   "cell_type": "code",
   "execution_count": 14,
   "outputs": [
    {
     "name": "stdout",
     "output_type": "stream",
     "text": [
      "training accuracy: 0.9998748748748749\n",
      "training accuracy: 0.9986237958213436\n",
      "training accuracy: 1.0\n",
      "training accuracy: 0.9987487487487487\n",
      "training accuracy: 0.998623967975982\n"
     ]
    }
   ],
   "source": [
    "#model training\n",
    "from sklearn.svm import SVC\n",
    "from sklearn.ensemble import RandomForestClassifier\n",
    "from sklearn.linear_model import LogisticRegression\n",
    "from sklearn.metrics import accuracy_score\n",
    "\n",
    "model = RandomForestClassifier(max_depth = 15, max_features = 5)\n",
    "#model = LogisticRegression(max_iter=1000, C=1e-3)\n",
    "#model = SVC(kernel='rbf', decision_function_shape='ovo', C=2)\n",
    "\n",
    "predictions = []\n",
    "testLabels = []\n",
    "for i in range(K):\n",
    "    X_train = trainData[i].copy()\n",
    "    label = X_train['label']\n",
    "    X_train.drop(['label','index'], axis=1, inplace=True)\n",
    "    #npArray = X_train.values\n",
    "    #npArray = scalar.fit_transform(npArray)\n",
    "    #X_train = pd.DataFrame(npArray, columns=X_train.columns)\n",
    "    model.fit(X_train, label)\n",
    "    trainAccuracy = accuracy_score(model.predict(X_train), label)\n",
    "    print(f\"training accuracy: {trainAccuracy}\")\n",
    "    testData = testDataFolds[i].copy()\n",
    "    testIndex = testData['index']\n",
    "    testLabel = testData['label']\n",
    "    testLabels.append(testLabel)\n",
    "    #dataArray = testData.values\n",
    "    #dataArray = scalar.transform(dataArray)\n",
    "    #testData = pd.DataFrame(dataArray, columns=testData.columns)\n",
    "    prediction= splitTabularPredicting(model, testIndex, slicedDataSet)\n",
    "    predictions.append(prediction)"
   ],
   "metadata": {
    "collapsed": false,
    "ExecuteTime": {
     "end_time": "2024-04-03T02:33:16.960184300Z",
     "start_time": "2024-04-03T02:33:02.497008500Z"
    }
   },
   "id": "f97cd40291c7b8ec"
  },
  {
   "cell_type": "code",
   "execution_count": 15,
   "outputs": [
    {
     "name": "stdout",
     "output_type": "stream",
     "text": [
      "Mean Accuracy: 0.728643216080402\n"
     ]
    }
   ],
   "source": [
    "#average accuracy\n",
    "accuracies = []\n",
    "for i in range(K):\n",
    "    prediction = predictions[i]\n",
    "    accuracy = accuracy_score(testLabels[i], prediction)\n",
    "    accuracies.append(accuracy)\n",
    "\n",
    "mean_accuracy = np.mean(accuracies)\n",
    "print(f\"Mean Accuracy: {mean_accuracy}\")"
   ],
   "metadata": {
    "collapsed": false,
    "ExecuteTime": {
     "end_time": "2024-04-03T02:33:16.976750800Z",
     "start_time": "2024-04-03T02:33:16.961183900Z"
    }
   },
   "id": "a57d7e5e03d0e89a"
  }
 ],
 "metadata": {
  "kernelspec": {
   "display_name": "Python 3",
   "language": "python",
   "name": "python3"
  },
  "language_info": {
   "codemirror_mode": {
    "name": "ipython",
    "version": 2
   },
   "file_extension": ".py",
   "mimetype": "text/x-python",
   "name": "python",
   "nbconvert_exporter": "python",
   "pygments_lexer": "ipython2",
   "version": "2.7.6"
  }
 },
 "nbformat": 4,
 "nbformat_minor": 5
}
