{
 "cells": [
  {
   "cell_type": "code",
   "execution_count": 1,
   "id": "initial_id",
   "metadata": {
    "collapsed": true,
    "ExecuteTime": {
     "end_time": "2024-04-02T05:37:45.800167600Z",
     "start_time": "2024-04-02T05:37:42.860813200Z"
    }
   },
   "outputs": [],
   "source": [
    "import sys\n",
    "import os\n",
    "import pandas as pd\n",
    "import numpy as np\n",
    "from sklearn.ensemble import RandomForestClassifier\n",
    "from sklearn.model_selection import train_test_split\n",
    "\n",
    "sys.path.append('..')\n",
    "from audio_toolbox.metrics import splitTabularPredicting\n",
    "\n",
    "audio_root_folder = '../archive/Data'\n",
    "labels_csv = os.path.join(audio_root_folder, 'dataIndex.csv')\n",
    "df = pd.read_csv(labels_csv, header=0)\n",
    "copy = pd.read_csv(labels_csv, header=0)\n",
    "slicedCSV = os.path.join(audio_root_folder, 'feature.csv')\n",
    "slicedDataSet = pd.read_csv(slicedCSV, header=0)\n",
    "label = df['label']\n",
    "df = df.sample(frac=1, random_state=42).reset_index(drop=False)\n",
    "slicedDataSet = slicedDataSet.sample(frac=1, random_state=42).reset_index(drop=False)"
   ]
  },
  {
   "cell_type": "code",
   "execution_count": 2,
   "outputs": [],
   "source": [
    "from sklearn.ensemble import RandomForestClassifier\n",
    "from sklearn.model_selection import train_test_split\n",
    "\n",
    "X_train, X_test = train_test_split(slicedDataSet, train_size = 0.1)\n",
    "X_train_drop = X_train.drop(['label','index'], axis=1, inplace=False)"
   ],
   "metadata": {
    "collapsed": false,
    "ExecuteTime": {
     "end_time": "2024-04-02T05:37:46.703866100Z",
     "start_time": "2024-04-02T05:37:46.695809800Z"
    }
   },
   "id": "c51f615c0177be3f"
  },
  {
   "cell_type": "code",
   "execution_count": 3,
   "outputs": [
    {
     "data": {
      "text/plain": "RandomForestClassifier(max_depth=15, max_features=5)",
      "text/html": "<style>#sk-container-id-1 {color: black;background-color: white;}#sk-container-id-1 pre{padding: 0;}#sk-container-id-1 div.sk-toggleable {background-color: white;}#sk-container-id-1 label.sk-toggleable__label {cursor: pointer;display: block;width: 100%;margin-bottom: 0;padding: 0.3em;box-sizing: border-box;text-align: center;}#sk-container-id-1 label.sk-toggleable__label-arrow:before {content: \"▸\";float: left;margin-right: 0.25em;color: #696969;}#sk-container-id-1 label.sk-toggleable__label-arrow:hover:before {color: black;}#sk-container-id-1 div.sk-estimator:hover label.sk-toggleable__label-arrow:before {color: black;}#sk-container-id-1 div.sk-toggleable__content {max-height: 0;max-width: 0;overflow: hidden;text-align: left;background-color: #f0f8ff;}#sk-container-id-1 div.sk-toggleable__content pre {margin: 0.2em;color: black;border-radius: 0.25em;background-color: #f0f8ff;}#sk-container-id-1 input.sk-toggleable__control:checked~div.sk-toggleable__content {max-height: 200px;max-width: 100%;overflow: auto;}#sk-container-id-1 input.sk-toggleable__control:checked~label.sk-toggleable__label-arrow:before {content: \"▾\";}#sk-container-id-1 div.sk-estimator input.sk-toggleable__control:checked~label.sk-toggleable__label {background-color: #d4ebff;}#sk-container-id-1 div.sk-label input.sk-toggleable__control:checked~label.sk-toggleable__label {background-color: #d4ebff;}#sk-container-id-1 input.sk-hidden--visually {border: 0;clip: rect(1px 1px 1px 1px);clip: rect(1px, 1px, 1px, 1px);height: 1px;margin: -1px;overflow: hidden;padding: 0;position: absolute;width: 1px;}#sk-container-id-1 div.sk-estimator {font-family: monospace;background-color: #f0f8ff;border: 1px dotted black;border-radius: 0.25em;box-sizing: border-box;margin-bottom: 0.5em;}#sk-container-id-1 div.sk-estimator:hover {background-color: #d4ebff;}#sk-container-id-1 div.sk-parallel-item::after {content: \"\";width: 100%;border-bottom: 1px solid gray;flex-grow: 1;}#sk-container-id-1 div.sk-label:hover label.sk-toggleable__label {background-color: #d4ebff;}#sk-container-id-1 div.sk-serial::before {content: \"\";position: absolute;border-left: 1px solid gray;box-sizing: border-box;top: 0;bottom: 0;left: 50%;z-index: 0;}#sk-container-id-1 div.sk-serial {display: flex;flex-direction: column;align-items: center;background-color: white;padding-right: 0.2em;padding-left: 0.2em;position: relative;}#sk-container-id-1 div.sk-item {position: relative;z-index: 1;}#sk-container-id-1 div.sk-parallel {display: flex;align-items: stretch;justify-content: center;background-color: white;position: relative;}#sk-container-id-1 div.sk-item::before, #sk-container-id-1 div.sk-parallel-item::before {content: \"\";position: absolute;border-left: 1px solid gray;box-sizing: border-box;top: 0;bottom: 0;left: 50%;z-index: -1;}#sk-container-id-1 div.sk-parallel-item {display: flex;flex-direction: column;z-index: 1;position: relative;background-color: white;}#sk-container-id-1 div.sk-parallel-item:first-child::after {align-self: flex-end;width: 50%;}#sk-container-id-1 div.sk-parallel-item:last-child::after {align-self: flex-start;width: 50%;}#sk-container-id-1 div.sk-parallel-item:only-child::after {width: 0;}#sk-container-id-1 div.sk-dashed-wrapped {border: 1px dashed gray;margin: 0 0.4em 0.5em 0.4em;box-sizing: border-box;padding-bottom: 0.4em;background-color: white;}#sk-container-id-1 div.sk-label label {font-family: monospace;font-weight: bold;display: inline-block;line-height: 1.2em;}#sk-container-id-1 div.sk-label-container {text-align: center;}#sk-container-id-1 div.sk-container {/* jupyter's `normalize.less` sets `[hidden] { display: none; }` but bootstrap.min.css set `[hidden] { display: none !important; }` so we also need the `!important` here to be able to override the default hidden behavior on the sphinx rendered scikit-learn.org. See: https://github.com/scikit-learn/scikit-learn/issues/21755 */display: inline-block !important;position: relative;}#sk-container-id-1 div.sk-text-repr-fallback {display: none;}</style><div id=\"sk-container-id-1\" class=\"sk-top-container\"><div class=\"sk-text-repr-fallback\"><pre>RandomForestClassifier(max_depth=15, max_features=5)</pre><b>In a Jupyter environment, please rerun this cell to show the HTML representation or trust the notebook. <br />On GitHub, the HTML representation is unable to render, please try loading this page with nbviewer.org.</b></div><div class=\"sk-container\" hidden><div class=\"sk-item\"><div class=\"sk-estimator sk-toggleable\"><input class=\"sk-toggleable__control sk-hidden--visually\" id=\"sk-estimator-id-1\" type=\"checkbox\" checked><label for=\"sk-estimator-id-1\" class=\"sk-toggleable__label sk-toggleable__label-arrow\">RandomForestClassifier</label><div class=\"sk-toggleable__content\"><pre>RandomForestClassifier(max_depth=15, max_features=5)</pre></div></div></div></div></div>"
     },
     "execution_count": 3,
     "metadata": {},
     "output_type": "execute_result"
    }
   ],
   "source": [
    "tree = RandomForestClassifier(max_depth = 15, max_features = 5)\n",
    "tree.fit(X_train_drop, X_train['label'])"
   ],
   "metadata": {
    "collapsed": false,
    "ExecuteTime": {
     "end_time": "2024-04-02T05:37:48.012372700Z",
     "start_time": "2024-04-02T05:37:47.515979700Z"
    }
   },
   "id": "1804d3f9d36eb207"
  },
  {
   "cell_type": "code",
   "execution_count": 4,
   "outputs": [],
   "source": [
    "from audio_toolbox.metrics import splitTabularPredicting\n",
    "_, X_test = train_test_split(df, test_size= 0.5)\n",
    "prediction= splitTabularPredicting(tree, X_test, slicedDataSet)"
   ],
   "metadata": {
    "collapsed": false,
    "ExecuteTime": {
     "end_time": "2024-04-02T05:37:53.139498200Z",
     "start_time": "2024-04-02T05:37:49.061915100Z"
    }
   },
   "id": "c53f18c9bae9b1c1"
  },
  {
   "cell_type": "code",
   "execution_count": 5,
   "outputs": [
    {
     "name": "stdout",
     "output_type": "stream",
     "text": [
      "Accuracy: 0.932\n"
     ]
    }
   ],
   "source": [
    "from sklearn.metrics import accuracy_score\n",
    "\n",
    "# Assuming `prediction` is your list of predictions\n",
    "accuracy = accuracy_score(X_test['label'], prediction)\n",
    "print(f\"Accuracy: {accuracy}\")"
   ],
   "metadata": {
    "collapsed": false,
    "ExecuteTime": {
     "end_time": "2024-04-02T05:37:55.010217900Z",
     "start_time": "2024-04-02T05:37:55.003323200Z"
    }
   },
   "id": "96e52b2c482f032e"
  },
  {
   "cell_type": "code",
   "execution_count": 39,
   "outputs": [
    {
     "data": {
      "text/plain": "array(['metal', 'jazz', 'reggae', 'classical', 'country', 'rock',\n       'reggae', 'rock', 'country', 'rock', 'classical', 'hiphop',\n       'hiphop', 'disco', 'hiphop', 'hiphop', 'metal', 'reggae', 'metal',\n       'country', 'hiphop', 'country', 'metal', 'hiphop', 'metal',\n       'blues', 'rock', 'reggae', 'hiphop', 'disco', 'hiphop', 'pop',\n       'pop', 'country', 'pop', 'disco', 'hiphop', 'rock', 'blues',\n       'metal', 'hiphop', 'country', 'pop', 'jazz', 'metal', 'blues',\n       'metal', 'classical', 'country', 'reggae', 'reggae', 'country',\n       'rock', 'jazz', 'jazz', 'metal', 'jazz', 'classical', 'classical',\n       'blues', 'reggae', 'classical', 'rock', 'reggae', 'metal', 'jazz',\n       'classical', 'hiphop', 'reggae', 'metal', 'pop', 'classical',\n       'pop', 'rock', 'blues', 'hiphop', 'hiphop', 'disco', 'jazz',\n       'jazz', 'jazz', 'jazz', 'country', 'reggae', 'jazz', 'disco',\n       'disco', 'hiphop', 'rock', 'hiphop', 'country', 'blues', 'reggae',\n       'blues', 'hiphop', 'reggae', 'rock', 'blues', 'hiphop', 'reggae',\n       'blues', 'jazz', 'jazz', 'blues', 'reggae', 'country', 'metal',\n       'reggae', 'jazz', 'jazz', 'disco', 'classical', 'reggae', 'blues',\n       'reggae', 'jazz', 'pop', 'hiphop', 'disco', 'blues', 'disco',\n       'reggae', 'jazz', 'pop', 'jazz', 'disco', 'pop', 'country',\n       'reggae', 'reggae', 'blues', 'jazz', 'pop', 'country', 'country',\n       'metal', 'pop', 'reggae', 'disco', 'reggae', 'metal', 'jazz',\n       'pop', 'metal', 'disco', 'reggae', 'blues', 'disco', 'rock', 'pop',\n       'pop', 'classical', 'country', 'reggae', 'pop', 'classical',\n       'hiphop', 'country', 'country', 'rock', 'disco', 'reggae', 'metal',\n       'rock', 'blues', 'pop', 'reggae', 'classical', 'jazz', 'country',\n       'country', 'metal', 'blues', 'jazz', 'rock', 'metal', 'country',\n       'metal', 'reggae', 'pop', 'reggae', 'metal', 'country', 'pop',\n       'country', 'classical', 'metal', 'hiphop', 'metal', 'classical',\n       'disco', 'reggae', 'disco', 'pop', 'rock', 'classical', 'jazz',\n       'classical', 'reggae', 'pop', 'classical', 'pop', 'jazz', 'blues',\n       'reggae', 'metal', 'classical', 'rock', 'classical', 'hiphop',\n       'country', 'classical', 'pop', 'country', 'country', 'classical',\n       'reggae', 'reggae', 'metal', 'blues', 'hiphop', 'blues', 'country',\n       'jazz', 'metal', 'pop', 'metal', 'pop', 'disco', 'metal',\n       'classical', 'blues', 'blues', 'blues', 'reggae', 'metal',\n       'classical', 'pop', 'blues', 'reggae', 'reggae', 'jazz', 'country',\n       'jazz', 'classical', 'country', 'pop', 'rock', 'reggae', 'rock',\n       'disco', 'metal', 'metal', 'reggae', 'hiphop', 'blues', 'rock',\n       'metal', 'disco', 'hiphop', 'metal', 'pop', 'metal', 'country',\n       'disco', 'blues', 'classical', 'metal', 'classical', 'classical',\n       'reggae', 'classical', 'disco', 'jazz', 'country', 'jazz', 'rock',\n       'classical', 'country', 'disco', 'reggae', 'classical', 'reggae',\n       'jazz', 'disco', 'hiphop', 'pop', 'metal', 'country', 'metal',\n       'jazz', 'jazz', 'jazz', 'jazz', 'reggae', 'classical', 'country',\n       'pop', 'reggae', 'disco', 'disco', 'country', 'reggae', 'blues',\n       'reggae', 'metal', 'jazz', 'pop', 'rock', 'metal', 'metal',\n       'reggae', 'blues', 'blues', 'metal', 'pop', 'pop', 'rock', 'blues',\n       'pop', 'classical', 'metal', 'disco', 'blues', 'reggae', 'rock',\n       'classical', 'disco', 'reggae', 'reggae', 'classical', 'hiphop',\n       'country', 'metal', 'blues', 'classical', 'classical', 'metal',\n       'hiphop', 'jazz', 'jazz', 'hiphop', 'jazz', 'pop', 'disco',\n       'metal', 'reggae', 'jazz', 'reggae', 'country', 'hiphop', 'metal',\n       'classical', 'disco', 'country', 'rock', 'classical', 'reggae',\n       'blues', 'rock', 'hiphop', 'disco', 'jazz', 'classical', 'metal',\n       'blues', 'hiphop', 'jazz', 'metal', 'jazz', 'metal', 'pop',\n       'disco', 'classical', 'disco', 'rock', 'disco', 'country', 'metal',\n       'disco', 'rock', 'blues', 'blues', 'pop', 'hiphop', 'metal',\n       'jazz', 'jazz', 'hiphop', 'country', 'metal', 'reggae', 'reggae',\n       'classical', 'reggae', 'country', 'reggae', 'rock', 'classical',\n       'country', 'country', 'metal', 'disco', 'pop', 'reggae', 'hiphop',\n       'blues', 'metal', 'classical', 'country', 'blues', 'disco',\n       'disco', 'classical', 'classical', 'metal', 'country', 'rock',\n       'hiphop', 'blues', 'disco', 'hiphop', 'disco', 'jazz', 'reggae',\n       'country', 'hiphop', 'hiphop', 'blues', 'blues', 'classical',\n       'pop', 'classical', 'blues', 'reggae', 'classical', 'country',\n       'reggae', 'pop', 'rock', 'pop', 'metal', 'reggae', 'metal', 'pop',\n       'blues', 'disco', 'reggae', 'reggae', 'blues', 'metal', 'jazz',\n       'pop', 'classical', 'jazz', 'hiphop', 'metal', 'blues', 'disco',\n       'disco', 'blues', 'metal', 'jazz', 'hiphop', 'reggae', 'hiphop',\n       'blues', 'hiphop', 'metal', 'reggae', 'classical', 'hiphop',\n       'jazz', 'pop', 'disco', 'rock', 'jazz', 'metal', 'reggae',\n       'hiphop', 'reggae', 'country', 'pop', 'reggae', 'disco', 'country',\n       'rock', 'blues', 'metal', 'hiphop', 'pop', 'classical', 'country',\n       'hiphop', 'metal', 'country', 'jazz', 'disco', 'classical',\n       'hiphop'], dtype='<U9')"
     },
     "execution_count": 39,
     "metadata": {},
     "output_type": "execute_result"
    }
   ],
   "source": [
    "class splitForest:\n",
    "    def __init__(self):\n",
    "        self.tree = RandomForestClassifier(max_depth = 15, max_features = 5)\n",
    "        self.dataset = slicedDataSet\n",
    "    def fit(self, X_train, Y_train):\n",
    "        self.tree.fit(X_train, Y_train)\n",
    "    def predict(self, X_test):\n",
    "        return splitTabularPredicting(self.tree, X_test, self.dataset)"
   ],
   "metadata": {
    "collapsed": false,
    "ExecuteTime": {
     "end_time": "2024-04-02T05:14:59.123543800Z",
     "start_time": "2024-04-02T05:14:59.113249600Z"
    }
   },
   "id": "a4dc8fb6ce78bbca"
  },
  {
   "cell_type": "code",
   "execution_count": 40,
   "outputs": [
    {
     "data": {
      "text/plain": "402      metal\n818       jazz\n344     reggae\n929       jazz\n54       blues\n        ...   \n315    country\n785       rock\n930      disco\n884    country\n988     hiphop\nName: label, Length: 500, dtype: object"
     },
     "execution_count": 40,
     "metadata": {},
     "output_type": "execute_result"
    }
   ],
   "source": [
    "X_test['label']"
   ],
   "metadata": {
    "collapsed": false,
    "ExecuteTime": {
     "end_time": "2024-04-02T05:14:59.743657300Z",
     "start_time": "2024-04-02T05:14:59.733054500Z"
    }
   },
   "id": "7eea1f4757198048"
  },
  {
   "cell_type": "code",
   "execution_count": 2,
   "outputs": [],
   "source": [
    "data_folds = []\n",
    "target_folds = []\n",
    "K = 5\n",
    "tree = RandomForestClassifier(max_depth = 15, max_features = 5)\n",
    "df = df.sample(frac=1, random_state=42).reset_index(drop=True)\n",
    "fold_size = len(df) // K\n",
    "\n",
    "df.drop(['label'], axis=1, inplace=True)\n",
    "df.columns = df.iloc[0]\n",
    "for i in range(5):\n",
    "    start = i * fold_size\n",
    "    end = start + fold_size if i < K-1 else len(df)  # Ensure the last fold includes the remainder\n",
    "    data_folds.append(df[start:end])\n",
    "    target_folds.append(label[start:end])"
   ],
   "metadata": {
    "collapsed": false,
    "ExecuteTime": {
     "end_time": "2024-04-02T05:19:15.057041100Z",
     "start_time": "2024-04-02T05:19:15.051537300Z"
    }
   },
   "id": "d2580885a81def7a"
  },
  {
   "cell_type": "code",
   "execution_count": 3,
   "outputs": [
    {
     "ename": "KeyError",
     "evalue": "'index'",
     "output_type": "error",
     "traceback": [
      "\u001B[1;31m---------------------------------------------------------------------------\u001B[0m",
      "\u001B[1;31mKeyError\u001B[0m                                  Traceback (most recent call last)",
      "File \u001B[1;32m~\\anaconda3\\Lib\\site-packages\\pandas\\core\\indexes\\base.py:3791\u001B[0m, in \u001B[0;36mIndex.get_loc\u001B[1;34m(self, key)\u001B[0m\n\u001B[0;32m   3790\u001B[0m \u001B[38;5;28;01mtry\u001B[39;00m:\n\u001B[1;32m-> 3791\u001B[0m     \u001B[38;5;28;01mreturn\u001B[39;00m \u001B[38;5;28mself\u001B[39m\u001B[38;5;241m.\u001B[39m_engine\u001B[38;5;241m.\u001B[39mget_loc(casted_key)\n\u001B[0;32m   3792\u001B[0m \u001B[38;5;28;01mexcept\u001B[39;00m \u001B[38;5;167;01mKeyError\u001B[39;00m \u001B[38;5;28;01mas\u001B[39;00m err:\n",
      "File \u001B[1;32mindex.pyx:152\u001B[0m, in \u001B[0;36mpandas._libs.index.IndexEngine.get_loc\u001B[1;34m()\u001B[0m\n",
      "File \u001B[1;32mindex.pyx:160\u001B[0m, in \u001B[0;36mpandas._libs.index.IndexEngine.get_loc\u001B[1;34m()\u001B[0m\n",
      "File \u001B[1;32mpandas\\_libs\\index_class_helper.pxi:19\u001B[0m, in \u001B[0;36mpandas._libs.index.Float64Engine._check_type\u001B[1;34m()\u001B[0m\n",
      "\u001B[1;31mKeyError\u001B[0m: 'index'",
      "\nThe above exception was the direct cause of the following exception:\n",
      "\u001B[1;31mKeyError\u001B[0m                                  Traceback (most recent call last)",
      "Cell \u001B[1;32mIn[3], line 9\u001B[0m\n\u001B[0;32m      7\u001B[0m y_test \u001B[38;5;241m=\u001B[39m target_folds[i]\n\u001B[0;32m      8\u001B[0m tree\u001B[38;5;241m.\u001B[39mfit(X_train, y_train)\n\u001B[1;32m----> 9\u001B[0m prediction\u001B[38;5;241m=\u001B[39m splitTabularPredicting(tree, X_test, slicedDataSet)\n\u001B[0;32m     10\u001B[0m accuracy \u001B[38;5;241m=\u001B[39m accuracy_score(y_test, prediction)\n\u001B[0;32m     11\u001B[0m accuracies\u001B[38;5;241m.\u001B[39mappend(accuracy)\n",
      "File \u001B[1;32m~\\Desktop\\CS4641\\CS4641-Project\\code\\notebooks\\..\\audio_toolbox\\metrics.py:145\u001B[0m, in \u001B[0;36msplitTabularPredicting\u001B[1;34m(model, data, dataSet)\u001B[0m\n\u001B[0;32m    133\u001B[0m \u001B[38;5;28;01mdef\u001B[39;00m \u001B[38;5;21msplitTabularPredicting\u001B[39m(model, data, dataSet):\n\u001B[0;32m    134\u001B[0m \u001B[38;5;250m    \u001B[39m\u001B[38;5;124;03m\"\"\"\u001B[39;00m\n\u001B[0;32m    135\u001B[0m \u001B[38;5;124;03m    first find the sliced 10 data for each data in the testing data, then do the prediction to all 10 data.\u001B[39;00m\n\u001B[0;32m    136\u001B[0m \u001B[38;5;124;03m    Pick the mode of the prediction to be the final prediction, then compute the accuracy of this prediction.\u001B[39;00m\n\u001B[1;32m   (...)\u001B[0m\n\u001B[0;32m    143\u001B[0m \u001B[38;5;124;03m        result: the predicted label\u001B[39;00m\n\u001B[0;32m    144\u001B[0m \u001B[38;5;124;03m    \"\"\"\u001B[39;00m\n\u001B[1;32m--> 145\u001B[0m     index \u001B[38;5;241m=\u001B[39m data[\u001B[38;5;124m'\u001B[39m\u001B[38;5;124mindex\u001B[39m\u001B[38;5;124m'\u001B[39m]\n\u001B[0;32m    146\u001B[0m     prediction \u001B[38;5;241m=\u001B[39m []\n\u001B[0;32m    147\u001B[0m     \u001B[38;5;28;01mfor\u001B[39;00m i \u001B[38;5;129;01min\u001B[39;00m \u001B[38;5;28mrange\u001B[39m(\u001B[38;5;28mlen\u001B[39m(index)):\n",
      "File \u001B[1;32m~\\anaconda3\\Lib\\site-packages\\pandas\\core\\frame.py:3893\u001B[0m, in \u001B[0;36mDataFrame.__getitem__\u001B[1;34m(self, key)\u001B[0m\n\u001B[0;32m   3891\u001B[0m \u001B[38;5;28;01mif\u001B[39;00m \u001B[38;5;28mself\u001B[39m\u001B[38;5;241m.\u001B[39mcolumns\u001B[38;5;241m.\u001B[39mnlevels \u001B[38;5;241m>\u001B[39m \u001B[38;5;241m1\u001B[39m:\n\u001B[0;32m   3892\u001B[0m     \u001B[38;5;28;01mreturn\u001B[39;00m \u001B[38;5;28mself\u001B[39m\u001B[38;5;241m.\u001B[39m_getitem_multilevel(key)\n\u001B[1;32m-> 3893\u001B[0m indexer \u001B[38;5;241m=\u001B[39m \u001B[38;5;28mself\u001B[39m\u001B[38;5;241m.\u001B[39mcolumns\u001B[38;5;241m.\u001B[39mget_loc(key)\n\u001B[0;32m   3894\u001B[0m \u001B[38;5;28;01mif\u001B[39;00m is_integer(indexer):\n\u001B[0;32m   3895\u001B[0m     indexer \u001B[38;5;241m=\u001B[39m [indexer]\n",
      "File \u001B[1;32m~\\anaconda3\\Lib\\site-packages\\pandas\\core\\indexes\\base.py:3798\u001B[0m, in \u001B[0;36mIndex.get_loc\u001B[1;34m(self, key)\u001B[0m\n\u001B[0;32m   3793\u001B[0m     \u001B[38;5;28;01mif\u001B[39;00m \u001B[38;5;28misinstance\u001B[39m(casted_key, \u001B[38;5;28mslice\u001B[39m) \u001B[38;5;129;01mor\u001B[39;00m (\n\u001B[0;32m   3794\u001B[0m         \u001B[38;5;28misinstance\u001B[39m(casted_key, abc\u001B[38;5;241m.\u001B[39mIterable)\n\u001B[0;32m   3795\u001B[0m         \u001B[38;5;129;01mand\u001B[39;00m \u001B[38;5;28many\u001B[39m(\u001B[38;5;28misinstance\u001B[39m(x, \u001B[38;5;28mslice\u001B[39m) \u001B[38;5;28;01mfor\u001B[39;00m x \u001B[38;5;129;01min\u001B[39;00m casted_key)\n\u001B[0;32m   3796\u001B[0m     ):\n\u001B[0;32m   3797\u001B[0m         \u001B[38;5;28;01mraise\u001B[39;00m InvalidIndexError(key)\n\u001B[1;32m-> 3798\u001B[0m     \u001B[38;5;28;01mraise\u001B[39;00m \u001B[38;5;167;01mKeyError\u001B[39;00m(key) \u001B[38;5;28;01mfrom\u001B[39;00m \u001B[38;5;21;01merr\u001B[39;00m\n\u001B[0;32m   3799\u001B[0m \u001B[38;5;28;01mexcept\u001B[39;00m \u001B[38;5;167;01mTypeError\u001B[39;00m:\n\u001B[0;32m   3800\u001B[0m     \u001B[38;5;66;03m# If we have a listlike key, _check_indexing_error will raise\u001B[39;00m\n\u001B[0;32m   3801\u001B[0m     \u001B[38;5;66;03m#  InvalidIndexError. Otherwise we fall through and re-raise\u001B[39;00m\n\u001B[0;32m   3802\u001B[0m     \u001B[38;5;66;03m#  the TypeError.\u001B[39;00m\n\u001B[0;32m   3803\u001B[0m     \u001B[38;5;28mself\u001B[39m\u001B[38;5;241m.\u001B[39m_check_indexing_error(key)\n",
      "\u001B[1;31mKeyError\u001B[0m: 'index'"
     ]
    }
   ],
   "source": [
    "accuracies = []\n",
    "\n",
    "for i in range(K):\n",
    "    X_train = pd.concat([data_folds[j] for j in range(K) if j != i], ignore_index=True)\n",
    "    y_train = pd.concat([target_folds[j] for j in range(K) if j != i], ignore_index=True)\n",
    "    X_test = data_folds[i]\n",
    "    y_test = target_folds[i]\n",
    "    tree.fit(X_train, y_train)\n",
    "    prediction= splitTabularPredicting(tree, X_test, slicedDataSet)\n",
    "    accuracy = accuracy_score(y_test, prediction)\n",
    "    accuracies.append(accuracy)\n",
    "    \n",
    "average_accuracy = sum(accuracies) / len(accuracies)\n",
    "print(f\"Average Accuracy: {average_accuracy}\")"
   ],
   "metadata": {
    "collapsed": false,
    "ExecuteTime": {
     "end_time": "2024-04-02T05:19:17.767680300Z",
     "start_time": "2024-04-02T05:19:15.662303800Z"
    }
   },
   "id": "efe75e4be184ea2e"
  },
  {
   "cell_type": "code",
   "execution_count": null,
   "outputs": [],
   "source": [],
   "metadata": {
    "collapsed": false
   },
   "id": "67d93be724b48fb4"
  }
 ],
 "metadata": {
  "kernelspec": {
   "display_name": "Python 3",
   "language": "python",
   "name": "python3"
  },
  "language_info": {
   "codemirror_mode": {
    "name": "ipython",
    "version": 2
   },
   "file_extension": ".py",
   "mimetype": "text/x-python",
   "name": "python",
   "nbconvert_exporter": "python",
   "pygments_lexer": "ipython2",
   "version": "2.7.6"
  }
 },
 "nbformat": 4,
 "nbformat_minor": 5
}
