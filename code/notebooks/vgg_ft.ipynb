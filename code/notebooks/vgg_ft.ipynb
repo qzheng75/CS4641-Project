{
 "cells": [
  {
   "cell_type": "code",
   "execution_count": 19,
   "metadata": {},
   "outputs": [],
   "source": [
    "import torch\n",
    "\n",
    "device = 'cuda:1' if torch.cuda.is_available() else 'cpu'\n",
    "n_samples = 999\n",
    "\n",
    "nfold = 10 # which means test_size = 0.1\n",
    "torch.manual_seed(42)\n",
    "rand_idx = torch.randperm(n_samples, device=device)\n",
    "test_idx_each_split = torch.chunk(rand_idx, nfold, dim=0)\n",
    "train_val_idx_each_split = [\n",
    "    torch.cat(test_idx_each_split[:i] + test_idx_each_split[i+1:])\n",
    "    for i in range(nfold)\n",
    "]"
   ]
  },
  {
   "cell_type": "code",
   "execution_count": 20,
   "metadata": {},
   "outputs": [],
   "source": [
    "def random_subset(tensor, num_subset, seed=42):\n",
    "    torch.manual_seed(seed)\n",
    "    num_rows = tensor.size(0)\n",
    "    rand_perm = torch.randperm(num_rows, device=device)\n",
    "    return tensor[rand_perm[:num_subset]], tensor[rand_perm[num_subset:]]"
   ]
  },
  {
   "cell_type": "code",
   "execution_count": 21,
   "metadata": {},
   "outputs": [],
   "source": [
    "train_idx_each_split = []\n",
    "val_idx_each_split = []\n",
    "\n",
    "for i in range(nfold):\n",
    "    val_idx, train_idx = random_subset(train_val_idx_each_split[i], test_idx_each_split[i].size(0))\n",
    "    train_idx_each_split.append(train_idx)\n",
    "    val_idx_each_split.append(val_idx)\n"
   ]
  },
  {
   "cell_type": "code",
   "execution_count": 22,
   "metadata": {},
   "outputs": [
    {
     "data": {
      "text/plain": [
       "(torch.Size([799]), torch.Size([100]), torch.Size([100]))"
      ]
     },
     "execution_count": 22,
     "metadata": {},
     "output_type": "execute_result"
    }
   ],
   "source": [
    "train_idx_each_split[0].shape, val_idx_each_split[0].shape, test_idx_each_split[0].shape"
   ]
  },
  {
   "cell_type": "code",
   "execution_count": 23,
   "metadata": {},
   "outputs": [],
   "source": [
    "from torchvision.datasets import ImageFolder\n",
    "from torchvision.transforms import transforms\n",
    "class FlipTensor(object):\n",
    "    def __call__(self, x):\n",
    "        return torch.flip(x, dims=[0])\n",
    "    \n",
    "transform = transforms.Compose([\n",
    "    transforms.CenterCrop(256),\n",
    "    transforms.ToTensor(),\n",
    "    transforms.Normalize(mean=[0.485, 0.456, 0.406], std=[0.229, 0.224, 0.225]),\n",
    "    # FlipTensor()\n",
    "])\n",
    "image_folder = ImageFolder(root='../archive/Data/images_original', transform=transform)"
   ]
  },
  {
   "cell_type": "code",
   "execution_count": 24,
   "metadata": {},
   "outputs": [],
   "source": [
    "import numpy as np\n",
    "import matplotlib.pyplot as plt\n",
    "\n",
    "data = torch.stack(\n",
    "    [torch.from_numpy(np.array(image_folder[i][0])) for i in range(len(image_folder))],\n",
    "    dim=0\n",
    ").to(device)\n",
    "labels = torch.tensor(\n",
    "    [image_folder[i][1] for i in range(len(image_folder))], device=device\n",
    ")"
   ]
  },
  {
   "cell_type": "code",
   "execution_count": 25,
   "metadata": {},
   "outputs": [
    {
     "data": {
      "text/plain": [
       "torch.Size([999, 3, 256, 256])"
      ]
     },
     "execution_count": 25,
     "metadata": {},
     "output_type": "execute_result"
    }
   ],
   "source": [
    "data.shape"
   ]
  },
  {
   "cell_type": "code",
   "execution_count": 26,
   "metadata": {},
   "outputs": [],
   "source": [
    "import sys\n",
    "\n",
    "sys.path.append('..')"
   ]
  },
  {
   "cell_type": "code",
   "execution_count": 27,
   "metadata": {},
   "outputs": [
    {
     "name": "stderr",
     "output_type": "stream",
     "text": [
      "INFO:root:Epoch 0001, Learning rate: 0.000100, Training metric: 0.55823, Val metric: 0.45312, Test metric: 0.57812, Epoch time: 5.32446\n",
      "INFO:root:Epoch 0011, Learning rate: 0.000025, Training metric: 0.99875, Val metric: 0.82031, Test metric: 0.83594, Epoch time: 5.37181\n",
      "INFO:root:Early stopping triggered\n",
      "INFO:root:Best model at epoch 0006 with validation metric 0.85156\n",
      "INFO:root:Fold 0 test accuracy: 0.8700\n",
      "\n",
      "INFO:root:Epoch 0001, Learning rate: 0.000100, Training metric: 0.57690, Val metric: 0.53125, Test metric: 0.52344, Epoch time: 5.38503\n",
      "INFO:root:Epoch 0011, Learning rate: 0.000025, Training metric: 1.00000, Val metric: 0.76562, Test metric: 0.74219, Epoch time: 5.40495\n",
      "INFO:root:Epoch 0021, Learning rate: 0.000006, Training metric: 1.00000, Val metric: 0.71875, Test metric: 0.69531, Epoch time: 5.44656\n",
      "INFO:root:Early stopping triggered\n",
      "INFO:root:Best model at epoch 0019 with validation metric 0.83594\n",
      "INFO:root:Fold 1 test accuracy: 0.7400\n",
      "\n",
      "INFO:root:Epoch 0001, Learning rate: 0.000100, Training metric: 0.54069, Val metric: 0.53906, Test metric: 0.59375, Epoch time: 5.42766\n",
      "INFO:root:Epoch 0011, Learning rate: 0.000025, Training metric: 0.99875, Val metric: 0.75781, Test metric: 0.78906, Epoch time: 5.45930\n",
      "INFO:root:Early stopping triggered\n",
      "INFO:root:Best model at epoch 0005 with validation metric 0.82031\n",
      "INFO:root:Fold 2 test accuracy: 0.8100\n",
      "\n",
      "INFO:root:Epoch 0001, Learning rate: 0.000100, Training metric: 0.63452, Val metric: 0.64062, Test metric: 0.65625, Epoch time: 5.41462\n",
      "INFO:root:Epoch 0011, Learning rate: 0.000025, Training metric: 0.99875, Val metric: 0.82812, Test metric: 0.82812, Epoch time: 5.45589\n",
      "INFO:root:Epoch 0021, Learning rate: 0.000006, Training metric: 0.99875, Val metric: 0.82031, Test metric: 0.78906, Epoch time: 5.45734\n",
      "INFO:root:Early stopping triggered\n",
      "INFO:root:Best model at epoch 0013 with validation metric 0.83594\n",
      "INFO:root:Fold 3 test accuracy: 0.8200\n",
      "\n",
      "INFO:root:Epoch 0001, Learning rate: 0.000100, Training metric: 0.59185, Val metric: 0.46875, Test metric: 0.51562, Epoch time: 5.42078\n",
      "INFO:root:Epoch 0011, Learning rate: 0.000025, Training metric: 1.00000, Val metric: 0.67188, Test metric: 0.75000, Epoch time: 5.45521\n",
      "INFO:root:Epoch 0021, Learning rate: 0.000006, Training metric: 1.00000, Val metric: 0.83594, Test metric: 0.70312, Epoch time: 5.45802\n",
      "INFO:root:Early stopping triggered\n",
      "INFO:root:Best model at epoch 0016 with validation metric 0.85938\n",
      "INFO:root:Fold 4 test accuracy: 0.7700\n",
      "\n",
      "INFO:root:Epoch 0001, Learning rate: 0.000100, Training metric: 0.56452, Val metric: 0.57812, Test metric: 0.46875, Epoch time: 5.43170\n",
      "INFO:root:Epoch 0011, Learning rate: 0.000025, Training metric: 0.99875, Val metric: 0.82812, Test metric: 0.82031, Epoch time: 5.46056\n",
      "INFO:root:Early stopping triggered\n",
      "INFO:root:Best model at epoch 0007 with validation metric 0.83594\n",
      "INFO:root:Fold 5 test accuracy: 0.7700\n",
      "\n",
      "INFO:root:Epoch 0001, Learning rate: 0.000100, Training metric: 0.58690, Val metric: 0.50000, Test metric: 0.54688, Epoch time: 5.41418\n",
      "INFO:root:Epoch 0011, Learning rate: 0.000025, Training metric: 0.99750, Val metric: 0.81250, Test metric: 0.75000, Epoch time: 5.45535\n",
      "INFO:root:Early stopping triggered\n",
      "INFO:root:Best model at epoch 0006 with validation metric 0.81250\n",
      "INFO:root:Fold 6 test accuracy: 0.7900\n",
      "\n",
      "INFO:root:Epoch 0001, Learning rate: 0.000100, Training metric: 0.59944, Val metric: 0.57812, Test metric: 0.49219, Epoch time: 5.41506\n",
      "INFO:root:Epoch 0011, Learning rate: 0.000025, Training metric: 0.99875, Val metric: 0.69531, Test metric: 0.81250, Epoch time: 5.45719\n",
      "INFO:root:Epoch 0021, Learning rate: 0.000006, Training metric: 0.99875, Val metric: 0.76562, Test metric: 0.76562, Epoch time: 5.45813\n",
      "INFO:root:Early stopping triggered\n",
      "INFO:root:Best model at epoch 0014 with validation metric 0.82812\n",
      "INFO:root:Fold 7 test accuracy: 0.8400\n",
      "\n",
      "INFO:root:Epoch 0001, Learning rate: 0.000100, Training metric: 0.56327, Val metric: 0.50781, Test metric: 0.60156, Epoch time: 5.44818\n",
      "INFO:root:Epoch 0011, Learning rate: 0.000025, Training metric: 0.99875, Val metric: 0.77344, Test metric: 0.74219, Epoch time: 5.45487\n",
      "INFO:root:Epoch 0021, Learning rate: 0.000006, Training metric: 0.99875, Val metric: 0.77344, Test metric: 0.80469, Epoch time: 5.46444\n",
      "INFO:root:Early stopping triggered\n",
      "INFO:root:Best model at epoch 0016 with validation metric 0.82812\n",
      "INFO:root:Fold 8 test accuracy: 0.7800\n",
      "\n",
      "INFO:root:Epoch 0001, Learning rate: 0.000100, Training metric: 0.63101, Val metric: 0.58073, Test metric: 0.54948, Epoch time: 5.47071\n",
      "INFO:root:Epoch 0011, Learning rate: 0.000025, Training metric: 0.99880, Val metric: 0.81250, Test metric: 0.83594, Epoch time: 5.50592\n",
      "INFO:root:Early stopping triggered\n",
      "INFO:root:Best model at epoch 0009 with validation metric 0.81250\n",
      "INFO:root:Fold 9 test accuracy: 0.7980\n",
      "\n"
     ]
    }
   ],
   "source": [
    "import logging\n",
    "import warnings\n",
    "\n",
    "from torch.utils.data import TensorDataset\n",
    "import torchvision.models as models\n",
    "from torch import nn\n",
    "import torch.optim as optim\n",
    "import torch.optim.lr_scheduler as lr_scheduler\n",
    "from sklearn.metrics import accuracy_score, f1_score\n",
    "\n",
    "from audio_toolbox.trainer import ModelTrainer\n",
    "\n",
    "logging.basicConfig(level=logging.INFO)\n",
    "\n",
    "test_losses, f1_scores = [], []\n",
    "demo_loss_curve = None\n",
    "best_state_dict_folds = None\n",
    "best_fold_idx = 0\n",
    "max_test_acc = 0.\n",
    "for fold_idx in range(nfold):\n",
    "    train_data, train_label = data[train_idx_each_split[fold_idx]], labels[train_idx_each_split[fold_idx]]\n",
    "    val_data, val_label = data[val_idx_each_split[fold_idx]], labels[val_idx_each_split[fold_idx]]\n",
    "    test_data, test_label = data[test_idx_each_split[fold_idx]], labels[test_idx_each_split[fold_idx]]\n",
    "    \n",
    "    datasets = {\n",
    "        'train': TensorDataset(train_data, train_label),\n",
    "        'val': TensorDataset(val_data, val_label),\n",
    "        'test': TensorDataset(test_data, test_label)\n",
    "    }\n",
    "    \n",
    "    with warnings.catch_warnings():\n",
    "        warnings.simplefilter(\"ignore\")\n",
    "        vgg16 = models.vgg16(pretrained=True).to(device)\n",
    "        \n",
    "        # Remove last 7 convolutional layers\n",
    "        vgg16.features = torch.nn.Sequential(*list(vgg16.features.children())[:-7])\n",
    "        for param in vgg16.features.parameters():\n",
    "            param.requires_grad = True\n",
    "        \n",
    "    vgg16.classifier = nn.Sequential(\n",
    "        nn.Flatten(),\n",
    "        nn.Linear(25088, 4096, device=device),\n",
    "        nn.Dropout(0.8, inplace=True),\n",
    "        nn.ReLU(),\n",
    "        nn.Linear(4096, 10, device=device)\n",
    "    ).to(device)\n",
    "    \n",
    "    loss_fn = nn.CrossEntropyLoss()\n",
    "    learning_rate = 1e-4  # Adjust the learning rate as needed\n",
    "    optimizer = optim.Adam(vgg16.parameters(), lr=learning_rate)\n",
    "    scheduler = lr_scheduler.StepLR(optimizer, step_size=5, gamma=0.5)\n",
    "    \n",
    "    trainer = ModelTrainer(datasets, vgg16, loss_fn, optimizer, scheduler)\n",
    "    trainer_config = {\n",
    "        'save': False,\n",
    "        'num_epochs': 50,\n",
    "        'batch_size': 32,\n",
    "        'batch_tqdm': False,\n",
    "        'log_per': 10,\n",
    "        'metric': 'acc',\n",
    "        'early_stopping': True,\n",
    "        'patience': 10,\n",
    "    }\n",
    "    best_state_dict = trainer.train(**trainer_config)\n",
    "    trainer.load_model(best_state_dict)\n",
    "    pred_label = trainer.predict(test_data)\n",
    "    \n",
    "    test_losses.append(accuracy_score(test_label.cpu().numpy(), pred_label.cpu().numpy()))\n",
    "    if test_losses[-1] > max_test_acc:\n",
    "        max_test_acc = test_losses[-1]\n",
    "        demo_loss_curve = trainer.get_metric_record()\n",
    "        best_state_dict_folds = best_state_dict\n",
    "        best_fold_idx = fold_idx\n",
    "    f1_scores.append(f1_score(test_label.cpu().numpy(), pred_label.cpu().numpy(), average='macro'))\n",
    "    logging.info(f'Fold {fold_idx} test accuracy: {test_losses[-1]:.4f}\\n')"
   ]
  },
  {
   "cell_type": "code",
   "execution_count": 28,
   "metadata": {},
   "outputs": [
    {
     "name": "stdout",
     "output_type": "stream",
     "text": [
      "10-fold average f1 score: 0.7880\n",
      "10-fold average accuracy: 79.88%\n"
     ]
    }
   ],
   "source": [
    "print(f\"10-fold average f1 score: {np.mean(f1_scores):.4f}\")\n",
    "print(f\"10-fold average accuracy: {np.mean(test_losses) * 100:.2f}%\")"
   ]
  },
  {
   "cell_type": "code",
   "execution_count": 29,
   "metadata": {},
   "outputs": [
    {
     "data": {
      "image/png": "[encoded data removed]",
      "text/plain": [
       "<Figure size 640x480 with 1 Axes>"
      ]
     },
     "metadata": {},
     "output_type": "display_data"
    }
   ],
   "source": [
    "import matplotlib.pyplot as plt\n",
    "\n",
    "train_acc = demo_loss_curve['train']\n",
    "val_acc = demo_loss_curve['val']\n",
    "test_acc = demo_loss_curve['test']\n",
    "\n",
    "epochs = range(1, len(train_acc) + 1, 1)\n",
    "selected_epoch = np.argmax(val_acc) + 1\n",
    "\n",
    "plt.plot(epochs, train_acc, 'g', label='Training accuracy')\n",
    "plt.plot(epochs, val_acc, 'b', label='Validation accuracy')\n",
    "plt.plot(epochs, test_acc, 'r', label='Test accuracy')\n",
    "plt.axvline(x=selected_epoch, color='orange', linestyle='--', label='Best model epoch')\n",
    "\n",
    "plt.title('Training, Validation and Test Accuracy')\n",
    "plt.xticks(epochs)\n",
    "plt.xlabel('Epochs')\n",
    "plt.ylabel('Loss')\n",
    "plt.legend()\n",
    "\n",
    "# Show the plot\n",
    "plt.show()\n"
   ]
  },
  {
   "cell_type": "code",
   "execution_count": null,
   "metadata": {},
   "outputs": [],
   "source": []
  }
 ],
 "metadata": {
  "kernelspec": {
   "display_name": "audio_env",
   "language": "python",
   "name": "python3"
  },
  "language_info": {
   "codemirror_mode": {
    "name": "ipython",
    "version": 3
   },
   "file_extension": ".py",
   "mimetype": "text/x-python",
   "name": "python",
   "nbconvert_exporter": "python",
   "pygments_lexer": "ipython3",
   "version": "3.11.8"
  }
 },
 "nbformat": 4,
 "nbformat_minor": 2
}
