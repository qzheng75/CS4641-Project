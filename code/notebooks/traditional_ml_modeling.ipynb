{
 "cells": [
  {
   "cell_type": "code",
   "execution_count": 1,
   "metadata": {},
   "outputs": [],
   "source": [
    "import sys\n",
    "\n",
    "sys.path.append('..')"
   ]
  },
  {
   "cell_type": "code",
   "execution_count": 2,
   "metadata": {},
   "outputs": [],
   "source": [
    "import torch\n",
    "\n",
    "data = torch.load('../processed_data/complete_dataset/processed_data.pt')\n",
    "label = torch.load('../processed_data/complete_dataset/processed_label.pt')"
   ]
  },
  {
   "cell_type": "code",
   "execution_count": 3,
   "metadata": {},
   "outputs": [],
   "source": [
    "from audio_toolbox.metrics import audio_dataset_split\n",
    "\n",
    "RANDOM_STATE = 42\n",
    "X_train, y_train, _, _,\\\n",
    "X_test, y_test = audio_dataset_split(data, label, train_val_test_ratio=(0.9, 0, 0.1), random_state=RANDOM_STATE)"
   ]
  },
  {
   "cell_type": "code",
   "execution_count": 4,
   "metadata": {},
   "outputs": [],
   "source": [
    "X_train_flat = X_train.view(X_train.shape[0], -1).cpu().numpy()\n",
    "X_test_flat = X_test.view(X_test.shape[0], -1).cpu().numpy()"
   ]
  },
  {
   "cell_type": "markdown",
   "metadata": {},
   "source": [
    "Do PCA on flattened features"
   ]
  },
  {
   "cell_type": "code",
   "execution_count": 5,
   "metadata": {},
   "outputs": [],
   "source": [
    "from sklearn.decomposition import PCA\n",
    "from sklearn.preprocessing import StandardScaler\n",
    "\n",
    "# Initialize the scaler and PCA\n",
    "scaler = StandardScaler()\n",
    "pca = PCA(n_components=0.9)  # Keep 90% of the variance\n",
    "\n",
    "# Fit the scaler on the training set and transform all sets\n",
    "X_train_scaled = scaler.fit_transform(X_train_flat)\n",
    "X_test_scaled = scaler.transform(X_test_flat)\n",
    "\n",
    "reduced_X_train_flat = pca.fit_transform(X_train_scaled)\n",
    "reduced_X_test_flat = pca.transform(X_test_scaled)"
   ]
  },
  {
   "cell_type": "code",
   "execution_count": 6,
   "metadata": {},
   "outputs": [],
   "source": [
    "X_train = X_train.cpu().numpy()\n",
    "X_test = X_test.cpu().numpy()\n",
    "y_train = y_train.cpu().numpy()\n",
    "y_test = y_test.cpu().numpy()"
   ]
  },
  {
   "cell_type": "code",
   "execution_count": 7,
   "metadata": {},
   "outputs": [
    {
     "name": "stdout",
     "output_type": "stream",
     "text": [
      "Training samples: (899, 92880) -> (899, 661)\n",
      "Test samples: (100, 92880) -> (100, 661)\n"
     ]
    }
   ],
   "source": [
    "print(f\"Training samples: {X_train_flat.shape} -> {reduced_X_train_flat.shape}\")\n",
    "print(f\"Test samples: {X_test_flat.shape} -> {reduced_X_test_flat.shape}\")"
   ]
  },
  {
   "cell_type": "code",
   "execution_count": 8,
   "metadata": {},
   "outputs": [
    {
     "name": "stdout",
     "output_type": "stream",
     "text": [
      "Model fitting finished\n",
      "Train accuracy: 99.8888%, 1 mismatches out of 899 samples\n",
      "(Averaged) Train precision: 0.9989, recall: 0.9989, f1 score: 0.9989\n",
      "Test accuracy: 61.0000%, 39 mismatches out of 100 samples\n",
      "(Averaged) Test precision: 0.6067, recall: 0.6346, f1 score: 0.5883\n"
     ]
    }
   ],
   "source": [
    "from sklearn.linear_model import LogisticRegression\n",
    "from audio_toolbox.metrics import calculate_acc, precision_recall\n",
    "\n",
    "logistic_model = LogisticRegression(max_iter=1000, C=1e-2, random_state=RANDOM_STATE)\n",
    "logistic_model.fit(reduced_X_train_flat, y_train)\n",
    "print('Model fitting finished')\n",
    "\n",
    "for x, y, split in zip([reduced_X_train_flat, reduced_X_test_flat],\n",
    "                [y_train, y_test],\n",
    "                ['Train', 'Test']):\n",
    "    acc, correct, incorrect = calculate_acc(logistic_model, x, y)\n",
    "    print(f'{split} accuracy: {acc:.4f}%, {len(incorrect)} mismatches out of {len(incorrect) + len(correct)} samples')\n",
    "    conf_mat, precision, recall, f1 = precision_recall(logistic_model, x, y, return_each_class=False)\n",
    "    print(f'(Averaged) {split} precision: {precision:.4f}, recall: {recall:.4f}, f1 score: {f1:.4f}')"
   ]
  },
  {
   "cell_type": "code",
   "execution_count": 9,
   "metadata": {},
   "outputs": [
    {
     "name": "stdout",
     "output_type": "stream",
     "text": [
      "Model fitting finished\n",
      "Train accuracy: 18.7987%, 730 mismatches out of 899 samples\n",
      "(Averaged) Train precision: 0.3354, recall: 0.1798, f1 score: 0.0869\n",
      "Test accuracy: 6.0000%, 94 mismatches out of 100 samples\n",
      "(Averaged) Test precision: 0.0462, recall: 0.1000, f1 score: 0.0169\n"
     ]
    }
   ],
   "source": [
    "from sklearn.svm import SVC\n",
    "\n",
    "svm_classifier = SVC(C=1e-3, random_state=RANDOM_STATE)\n",
    "svm_classifier.fit(reduced_X_train_flat, y_train)\n",
    "\n",
    "print('Model fitting finished')\n",
    "\n",
    "for x, y, split in zip([reduced_X_train_flat, reduced_X_test_flat],\n",
    "                [y_train, y_test],\n",
    "                ['Train', 'Test']):\n",
    "    acc, correct, incorrect = calculate_acc(svm_classifier, x, y)\n",
    "    print(f'{split} accuracy: {acc:.4f}%, {len(incorrect)} mismatches out of {len(incorrect) + len(correct)} samples')\n",
    "    conf_mat, precision, recall, f1 = precision_recall(svm_classifier, x, y, return_each_class=False)\n",
    "    print(f'(Averaged) {split} precision: {precision:.4f}, recall: {recall:.4f}, f1 score: {f1:.4f}')"
   ]
  },
  {
   "cell_type": "code",
   "execution_count": 10,
   "metadata": {},
   "outputs": [
    {
     "name": "stdout",
     "output_type": "stream",
     "text": [
      "Model fitting finished\n",
      "Train accuracy: 98.5539%, 13 mismatches out of 899 samples\n",
      "(Averaged) Train precision: 0.9858, recall: 0.9856, f1 score: 0.9856\n",
      "Test accuracy: 30.0000%, 70 mismatches out of 100 samples\n",
      "(Averaged) Test precision: 0.5190, recall: 0.3417, f1 score: 0.2150\n"
     ]
    }
   ],
   "source": [
    "ovo_svm = SVC(decision_function_shape='ovo', random_state=RANDOM_STATE)\n",
    "ovo_svm.fit(reduced_X_train_flat, y_train)\n",
    "\n",
    "print('Model fitting finished')\n",
    "\n",
    "for x, y, split in zip([reduced_X_train_flat, reduced_X_test_flat],\n",
    "                [y_train, y_test],\n",
    "                ['Train', 'Test']):\n",
    "    acc, correct, incorrect = calculate_acc(ovo_svm, x, y)\n",
    "    print(f'{split} accuracy: {acc:.4f}%, {len(incorrect)} mismatches out of {len(incorrect) + len(correct)} samples')\n",
    "    conf_mat, precision, recall, f1 = precision_recall(ovo_svm, x, y, return_each_class=False)\n",
    "    print(f'(Averaged) {split} precision: {precision:.4f}, recall: {recall:.4f}, f1 score: {f1:.4f}')"
   ]
  },
  {
   "cell_type": "code",
   "execution_count": 11,
   "metadata": {},
   "outputs": [
    {
     "name": "stdout",
     "output_type": "stream",
     "text": [
      "Model fitting finished\n",
      "Train accuracy: 83.2036%, 151 mismatches out of 899 samples\n",
      "(Averaged) Train precision: 0.8443, recall: 0.8304, f1 score: 0.8311\n",
      "Test accuracy: 27.0000%, 73 mismatches out of 100 samples\n",
      "(Averaged) Test precision: 0.2973, recall: 0.3142, f1 score: 0.1790\n"
     ]
    }
   ],
   "source": [
    "from sklearn.ensemble import RandomForestClassifier\n",
    "\n",
    "rand_forest_classifier = RandomForestClassifier(n_estimators=100,\n",
    "                                                max_depth=4,\n",
    "                                                random_state=RANDOM_STATE)\n",
    "rand_forest_classifier.fit(reduced_X_train_flat, y_train)\n",
    "\n",
    "print('Model fitting finished')\n",
    "\n",
    "for x, y, split in zip([reduced_X_train_flat, reduced_X_test_flat],\n",
    "                [y_train, y_test],\n",
    "                ['Train', 'Test']):\n",
    "    acc, correct, incorrect = calculate_acc(rand_forest_classifier, x, y)\n",
    "    print(f'{split} accuracy: {acc:.4f}%, {len(incorrect)} mismatches out of {len(incorrect) + len(correct)} samples')\n",
    "    conf_mat, precision, recall, f1 = precision_recall(rand_forest_classifier, x, y, return_each_class=False)\n",
    "    print(f'(Averaged) {split} precision: {precision:.4f}, recall: {recall:.4f}, f1 score: {f1:.4f}')"
   ]
  },
  {
   "cell_type": "code",
   "execution_count": 12,
   "metadata": {},
   "outputs": [
    {
     "name": "stdout",
     "output_type": "stream",
     "text": [
      "Model fitting finished\n",
      "Train accuracy: 84.4271%, 140 mismatches out of 899 samples\n",
      "(Averaged) Train precision: 0.8648, recall: 0.8436, f1 score: 0.8448\n",
      "Test accuracy: 61.0000%, 39 mismatches out of 100 samples\n",
      "(Averaged) Test precision: 0.6451, recall: 0.6508, f1 score: 0.6162\n"
     ]
    }
   ],
   "source": [
    "from sklearn.naive_bayes import GaussianNB\n",
    "\n",
    "gnb_classifier = GaussianNB()\n",
    "gnb_classifier.fit(X_train_flat, y_train)\n",
    "\n",
    "print('Model fitting finished')\n",
    "\n",
    "for x, y, split in zip([X_train_flat, X_test_flat],\n",
    "                [y_train, y_test],\n",
    "                ['Train', 'Test']):\n",
    "    acc, correct, incorrect = calculate_acc(gnb_classifier, x, y)\n",
    "    print(f'{split} accuracy: {acc:.4f}%, {len(incorrect)} mismatches out of {len(incorrect) + len(correct)} samples')\n",
    "    conf_mat, precision, recall, f1 = precision_recall(gnb_classifier, x, y, return_each_class=False)\n",
    "    print(f'(Averaged) {split} precision: {precision:.4f}, recall: {recall:.4f}, f1 score: {f1:.4f}')"
   ]
  },
  {
   "cell_type": "code",
   "execution_count": 13,
   "metadata": {},
   "outputs": [
    {
     "name": "stdout",
     "output_type": "stream",
     "text": [
      "Model fitting finished\n",
      "Train accuracy: 57.9533%, 378 mismatches out of 899 samples\n",
      "(Averaged) Train precision: 0.6591, recall: 0.5800, f1 score: 0.5631\n",
      "Test accuracy: 13.0000%, 87 mismatches out of 100 samples\n",
      "(Averaged) Test precision: 0.4229, recall: 0.1250, f1 score: 0.0650\n"
     ]
    }
   ],
   "source": [
    "from sklearn.naive_bayes import GaussianNB\n",
    "\n",
    "gnb_classifier = GaussianNB()\n",
    "gnb_classifier.fit(reduced_X_train_flat, y_train)\n",
    "\n",
    "print('Model fitting finished')\n",
    "\n",
    "for x, y, split in zip([reduced_X_train_flat, reduced_X_test_flat],\n",
    "                [y_train, y_test],\n",
    "                ['Train', 'Test']):\n",
    "    acc, correct, incorrect = calculate_acc(gnb_classifier, x, y)\n",
    "    print(f'{split} accuracy: {acc:.4f}%, {len(incorrect)} mismatches out of {len(incorrect) + len(correct)} samples')\n",
    "    conf_mat, precision, recall, f1 = precision_recall(gnb_classifier, x, y, return_each_class=False)\n",
    "    print(f'(Averaged) {split} precision: {precision:.4f}, recall: {recall:.4f}, f1 score: {f1:.4f}')"
   ]
  },
  {
   "cell_type": "code",
   "execution_count": 14,
   "metadata": {},
   "outputs": [
    {
     "name": "stdout",
     "output_type": "stream",
     "text": [
      "Model fitting finished\n",
      "Train accuracy: 99.7775%, 2 mismatches out of 899 samples\n",
      "(Averaged) Train precision: 0.6591, recall: 0.5800, f1 score: 0.5631\n",
      "Test accuracy: 45.0000%, 55 mismatches out of 100 samples\n",
      "(Averaged) Test precision: 0.4229, recall: 0.1250, f1 score: 0.0650\n"
     ]
    }
   ],
   "source": [
    "from sklearn.ensemble import GradientBoostingClassifier\n",
    "\n",
    "xgboost_classifier = GradientBoostingClassifier(subsample=0.8, max_depth=2, random_state=RANDOM_STATE)\n",
    "xgboost_classifier.fit(reduced_X_train_flat, y_train)\n",
    "\n",
    "print('Model fitting finished')\n",
    "\n",
    "for x, y, split in zip([reduced_X_train_flat, reduced_X_test_flat],\n",
    "                [y_train, y_test],\n",
    "                ['Train', 'Test']):\n",
    "    acc, correct, incorrect = calculate_acc(xgboost_classifier, x, y)\n",
    "    print(f'{split} accuracy: {acc:.4f}%, {len(incorrect)} mismatches out of {len(incorrect) + len(correct)} samples')\n",
    "    conf_mat, precision, recall, f1 = precision_recall(gnb_classifier, x, y, return_each_class=False)\n",
    "    print(f'(Averaged) {split} precision: {precision:.4f}, recall: {recall:.4f}, f1 score: {f1:.4f}')"
   ]
  }
 ],
 "metadata": {
  "kernelspec": {
   "display_name": ".venv",
   "language": "python",
   "name": "python3"
  },
  "language_info": {
   "codemirror_mode": {
    "name": "ipython",
    "version": 3
   },
   "file_extension": ".py",
   "mimetype": "text/x-python",
   "name": "python",
   "nbconvert_exporter": "python",
   "pygments_lexer": "ipython3",
   "version": "3.11.8"
  }
 },
 "nbformat": 4,
 "nbformat_minor": 2
}
