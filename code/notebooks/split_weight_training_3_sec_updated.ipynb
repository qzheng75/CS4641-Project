{
 "cells": [
  {
   "cell_type": "code",
   "execution_count": 2,
   "metadata": {},
   "outputs": [],
   "source": [
    "import numpy as np\n",
    "\n",
    "data = np.load('../processed_data/10_split_dataset/data.npz', allow_pickle=True)\n",
    "label = np.load('../processed_data/10_split_dataset/label.npz.npy')"
   ]
  },
  {
   "cell_type": "code",
   "execution_count": 3,
   "metadata": {},
   "outputs": [],
   "source": [
    "X = np.stack([data[f'arr_{i}'].item()['three_sec'] for i in range(len(data))])\n",
    "X_30sec = np.stack([data[f'arr_{i}'].item()['thirty_sec'] for i in range(len(data))])\n",
    "label = label\n",
    "RANDOM_STATE = 42"
   ]
  },
  {
   "cell_type": "code",
   "execution_count": 4,
   "metadata": {},
   "outputs": [],
   "source": [
    "import numpy as np\n",
    "\n",
    "def generate_k_fold_dataset(data_3sec, data_30sec, label, k, shrink_ratio=1.0, shuffle_train_data=True, random_state=42):\n",
    "    np.random.seed(random_state)\n",
    "    numbers = np.arange(data_3sec.shape[0])\n",
    "    np.random.shuffle(numbers)\n",
    "    test_indices = np.array_split(numbers, k)\n",
    "    \n",
    "    train_folds, test_3sec_folds, test_30sec_folds = [], [], []\n",
    "    for i in range(k):\n",
    "        mask = np.zeros(data_3sec.shape[0], dtype=bool)\n",
    "        mask[test_indices[i]] = True\n",
    "        \n",
    "        X_train, y_train = data_3sec[~mask], label[~mask]\n",
    "        if shuffle_train_data:\n",
    "            shuffle_indices = np.arange(X_train.shape[0])\n",
    "            np.random.shuffle(shuffle_indices)\n",
    "            X_train, y_train = X_train[shuffle_indices], y_train[shuffle_indices]\n",
    "        \n",
    "        X_3sec_test, y_3sec_test = data_3sec[mask], label[mask]\n",
    "        X_30sec_test, y_30sec_test = data_30sec[mask], label[mask]\n",
    "        \n",
    "        train_folds.append((X_train[:int(shrink_ratio * len(X_train))], y_train[:int(shrink_ratio * len(y_train))]))\n",
    "        test_3sec_folds.append((X_3sec_test, y_3sec_test))\n",
    "        test_30sec_folds.append((X_30sec_test, y_30sec_test))\n",
    "    \n",
    "    if shrink_ratio != 1.0:\n",
    "        print(f'Warning: shrink_ratio is set to {shrink_ratio}, the dataset is shrinked.')\n",
    "        print(f'X_train=({train_folds[0][0].shape}, y_train=({train_folds[0][1].shape}), X_3sec_test=({test_30sec_folds[0][0].shape}, y_3sec_test=({test_30sec_folds[0][1].shape})')\n",
    "    return train_folds, test_3sec_folds, test_30sec_folds\n",
    "        \n",
    "train_folds, test_3sec_folds, test_30sec_folds = generate_k_fold_dataset(X, X_30sec, label, 10, shrink_ratio=1.0, shuffle_train_data=False)"
   ]
  },
  {
   "cell_type": "code",
   "execution_count": 5,
   "metadata": {},
   "outputs": [],
   "source": [
    "from scipy import stats\n",
    "from sklearn.svm import SVC\n",
    "\n",
    "\n",
    "def predict_and_mode(model, X_test, scaler, threshold=0.6):\n",
    "    X_test_scaled = scaler.transform(X_test.reshape(-1, X_test.shape[-1])).reshape(X_test.shape)\n",
    "    results = model.predict(X_test_scaled.reshape(-1, X_test.shape[-1]))\n",
    "    results = results.reshape(X_test.shape[:-1])\n",
    "    final_results = stats.mode(results, axis=1)\n",
    "    return final_results.mode.flatten()"
   ]
  },
  {
   "cell_type": "code",
   "execution_count": 6,
   "metadata": {},
   "outputs": [],
   "source": [
    "def predict_naive(model, X_test, scaler):\n",
    "    X_test_scaled = scaler.transform(X_test.reshape(-1, X_test.shape[-1])).reshape(X_test.shape)\n",
    "    results = model.predict(X_test_scaled.reshape(-1, X_test.shape[-1]))\n",
    "\n",
    "    return results"
   ]
  },
  {
   "cell_type": "code",
   "execution_count": 7,
   "metadata": {},
   "outputs": [],
   "source": [
    "from sklearn.metrics import accuracy_score, precision_score, recall_score, f1_score\n",
    "\n",
    "def aggregate_metrics(y_true, y_pred):\n",
    "    return accuracy_score(y_true, y_pred),\\\n",
    "        precision_score(y_true, y_pred, average='macro', zero_division=0.),\\\n",
    "        recall_score(y_true, y_pred, average='macro', zero_division=0.),\\\n",
    "        f1_score(y_true, y_pred, average='macro', zero_division=0.)"
   ]
  },
  {
   "cell_type": "code",
   "execution_count": 8,
   "metadata": {},
   "outputs": [],
   "source": [
    "from sklearn.preprocessing import StandardScaler\n",
    "import numpy as np\n",
    "from sklearn.linear_model import LogisticRegression\n",
    "from sklearn.svm import SVC\n",
    "from sklearn.neural_network import MLPClassifier\n",
    "from sklearn.ensemble import RandomForestClassifier, GradientBoostingClassifier\n",
    "from sklearn.naive_bayes import GaussianNB\n",
    "\n",
    "from sklearn.metrics import classification_report, accuracy_score, precision_score, recall_score, f1_score, confusion_matrix\n",
    "\n",
    "\n",
    "def perform_experiment(model_type, train_folds, test_3sec_folds, test_30sec_folds, fold_idx,\n",
    "                       type_return='report', **model_args):\n",
    "    \n",
    "    if type_return not in ['report', 'metrics', 'confusion_matrix']:\n",
    "        raise ValueError(\"Invalid return_type. Must be either 'report', 'metrics', or 'conf_matrix'.\")\n",
    "    \n",
    "    X_train, y_train = train_folds[fold_idx]\n",
    "    X_test, y_test = test_3sec_folds[fold_idx]\n",
    "    X_test_30sec, y_test_30sec = test_30sec_folds[fold_idx]\n",
    "\n",
    "    rand_perm = np.random.permutation(np.arange(X_test.shape[0]))\n",
    "    X_test, y_test = X_test[rand_perm], y_test[rand_perm]\n",
    "    X_test_30sec, y_test_30sec = X_test_30sec[rand_perm], y_test_30sec[rand_perm]\n",
    "    \n",
    "    y_train = np.repeat(y_train, X_train.shape[1])\n",
    "    X_train = X_train.reshape(-1, X_train.shape[-1])\n",
    "\n",
    "    rand_perm = np.random.permutation(np.arange(X_train.shape[0]))\n",
    "    X_train, y_train = X_train[rand_perm], y_train[rand_perm]\n",
    "    \n",
    "    scalar = StandardScaler()\n",
    "    X_train = scalar.fit_transform(X_train)\n",
    "\n",
    "    # Change the model here to experiment with different models\n",
    "    # model = SVC(kernel='rbf', decision_function_shape='ovo', C=1, probability=True, random_state=RANDOM_STATE)\n",
    "    # model = MLPClassifier(hidden_layer_sizes=(128, 128, 10), max_iter=1000, random_state=RANDOM_STATE)\n",
    "    # model = RandomForestClassifier(max_features=20, max_depth=10)\n",
    "    model = model_type(**model_args)\n",
    "\n",
    "    # model = RandomForestClassifier(max_features=20, max_depth=10)\n",
    "    model.fit(X_train, y_train)\n",
    "\n",
    "    # print(X_test.shape, X_test_30sec.shape)\n",
    "\n",
    "    X_test = np.concatenate((X_test, X_test_30sec[:, None, :]), axis=1)\n",
    "    # print(X_test.shape)\n",
    "\n",
    "    if type_return == 'report':\n",
    "        train_report = classification_report(y_train, model.predict(X_train))\n",
    "        mode_report = classification_report(y_test, predict_and_mode(model, X_test, scalar))\n",
    "        naive_report = classification_report(y_test_30sec, predict_naive(model, X_test_30sec, scalar)) \n",
    "        return train_report, mode_report, naive_report\n",
    "    elif type_return == 'metrics':\n",
    "        train_metrics = aggregate_metrics(y_train, model.predict(X_train))\n",
    "        mode_metrics = aggregate_metrics(y_test, predict_and_mode(model, X_test, scalar))\n",
    "        naive_metrics = aggregate_metrics(y_test_30sec, predict_naive(model, X_test_30sec, scalar))\n",
    "        return train_metrics, mode_metrics, naive_metrics\n",
    "    elif type_return == 'confusion_matrix':\n",
    "        train_conf_matrix = confusion_matrix(y_train, model.predict(X_train))\n",
    "        mode_conf_matrix = confusion_matrix(y_test, predict_and_mode(model, X_test, scalar))\n",
    "        naive_conf_matrix = confusion_matrix(y_test_30sec, predict_naive(model, X_test_30sec, scalar))\n",
    "        return train_conf_matrix, mode_conf_matrix, naive_conf_matrix"
   ]
  },
  {
   "cell_type": "code",
   "execution_count": 9,
   "metadata": {},
   "outputs": [],
   "source": [
    "accs = {}\n",
    "f1s = {}"
   ]
  },
  {
   "cell_type": "code",
   "execution_count": 10,
   "metadata": {},
   "outputs": [],
   "source": [
    "from tqdm import tqdm\n",
    "\n",
    "def k_fold_experiment(model, train_folds, test_3sec_folds, test_30sec_folds, **model_args):\n",
    "    metrics = []\n",
    "    all_conf_matrices = []\n",
    "    for k in tqdm(range(len(train_folds))):\n",
    "        train_metrics, mode_metrics, naive_metrics = perform_experiment(model, train_folds, test_3sec_folds, test_30sec_folds, k, type_return='metrics', **model_args)\n",
    "        conf_matrix = perform_experiment(model, train_folds, test_3sec_folds, test_30sec_folds, k, type_return='confusion_matrix', **model_args)\n",
    "        # print(f\"Fold {k+1}:\")\n",
    "        # print(f\"Train metrics: acc={train_metrics[0]:.3f}, precision={train_metrics[1]:.3f}, recall={train_metrics[2]:.3f}, f1={train_metrics[3]:.3f}\")\n",
    "        # print(f\"Mode Strategy metrics: acc={mode_metrics[0]:.3f}, precision={mode_metrics[1]:.3f}, recall={mode_metrics[2]:.3f}, f1={mode_metrics[3]:.3f}\")\n",
    "        # print(f\"Naive Strategy metrics: acc={naive_metrics[0]:.3f}, precision={naive_metrics[1]:.3f}, recall={naive_metrics[2]:.3f}, f1={naive_metrics[3]:.3f}\")\n",
    "        metrics.append((train_metrics, mode_metrics, naive_metrics))\n",
    "        all_conf_matrices.append(conf_matrix)\n",
    "    \n",
    "    avg_accs = {\n",
    "        \"train\": np.mean([m[0][0] for m in metrics], axis=0),\n",
    "        \"mode\": np.mean([m[1][0] for m in metrics], axis=0),\n",
    "        \"naive\": np.mean([m[2][0] for m in metrics], axis=0)\n",
    "    }\n",
    "    avg_precisions = {\n",
    "        \"train\": np.mean([m[0][1] for m in metrics], axis=0),\n",
    "        \"mode\": np.mean([m[1][1] for m in metrics], axis=0),\n",
    "        \"naive\": np.mean([m[2][1] for m in metrics], axis=0)\n",
    "    }\n",
    "    avg_recalls = {\n",
    "        \"train\": np.mean([m[0][2] for m in metrics], axis=0),\n",
    "        \"mode\": np.mean([m[1][2] for m in metrics], axis=0),\n",
    "        \"naive\": np.mean([m[2][2] for m in metrics], axis=0)\n",
    "    }\n",
    "    avg_f1s = {\n",
    "        \"train\": np.mean([m[0][3] for m in metrics], axis=0),\n",
    "        \"mode\": np.mean([m[1][3] for m in metrics], axis=0),\n",
    "        \"naive\": np.mean([m[2][3] for m in metrics], axis=0)\n",
    "    }\n",
    "    \n",
    "    print(f\"Average train metrics: acc={avg_accs['train'] * 100:.2f}%,\" +\\\n",
    "          f\"precision={avg_precisions['train']:.3f},\" +\\\n",
    "          f\"recall={avg_recalls['train']:.3f},\" +\\\n",
    "          f\"f1={avg_f1s['train']:.3f}\")\n",
    "    print(f\"Average Mode Strategy metrics: acc={avg_accs['mode'] * 100:.2f}%,\" +\\\n",
    "          f\"precision={avg_precisions['mode']:.3f},\" +\\\n",
    "          f\"recall={avg_recalls['mode']:.3f},\" +\\\n",
    "          f\"f1={avg_f1s['mode']:.3f}\")\n",
    "    \n",
    "    accs[f\"{model}\"] = avg_accs\n",
    "    f1s[f\"{model}\"] = avg_f1s\n",
    "    \n",
    "    print(f\"Average Naive Strategy metrics: acc={avg_accs['naive'] * 100:.2f}%,\" +\\\n",
    "          f\"precision={avg_precisions['naive']:.3f},\" +\\\n",
    "          f\"recall={avg_recalls['naive']:.3f},\" +\\\n",
    "          f\"f1={avg_f1s['naive']:.3f}\")\n",
    "    \n",
    "    return all_conf_matrices"
   ]
  },
  {
   "cell_type": "markdown",
   "metadata": {},
   "source": [
    "Fitting Models"
   ]
  },
  {
   "cell_type": "code",
   "execution_count": 10,
   "metadata": {},
   "outputs": [
    {
     "name": "stderr",
     "output_type": "stream",
     "text": [
      "100%|██████████| 10/10 [00:07<00:00,  1.40it/s]"
     ]
    },
    {
     "name": "stdout",
     "output_type": "stream",
     "text": [
      "Average train metrics: acc=75.71%,precision=0.755,recall=0.757,f1=0.755\n",
      "Average Mode Strategy metrics: acc=73.37%,precision=0.723,recall=0.725,f1=0.714\n",
      "Average Naive Strategy metrics: acc=72.18%,precision=0.718,recall=0.712,f1=0.705\n"
     ]
    },
    {
     "name": "stderr",
     "output_type": "stream",
     "text": [
      "\n"
     ]
    }
   ],
   "source": [
    "import warnings\n",
    "# Logistic Regression\n",
    "model = LogisticRegression\n",
    "model_args = {\n",
    "    'max_iter': 3000, \n",
    "    'C': 1e-3, \n",
    "    'random_state': RANDOM_STATE\n",
    "}\n",
    "\n",
    "with warnings.catch_warnings():\n",
    "    warnings.simplefilter(\"ignore\")\n",
    "    k_fold_experiment(model, train_folds, test_3sec_folds, test_30sec_folds)"
   ]
  },
  {
   "cell_type": "code",
   "execution_count": 11,
   "metadata": {},
   "outputs": [
    {
     "name": "stderr",
     "output_type": "stream",
     "text": [
      "100%|██████████| 10/10 [02:54<00:00, 17.45s/it]"
     ]
    },
    {
     "name": "stdout",
     "output_type": "stream",
     "text": [
      "Average train metrics: acc=95.05%,precision=0.951,recall=0.950,f1=0.950\n",
      "Average Mode Strategy metrics: acc=78.98%,precision=0.783,recall=0.785,f1=0.774\n",
      "Average Naive Strategy metrics: acc=75.48%,precision=0.757,recall=0.741,f1=0.734\n"
     ]
    },
    {
     "name": "stderr",
     "output_type": "stream",
     "text": [
      "\n"
     ]
    }
   ],
   "source": [
    "import warnings\n",
    "# svm\n",
    "model = SVC\n",
    "model_args = {\n",
    "    'kernel': 'linear',\n",
    "    'C': 2,\n",
    "    'random_state': RANDOM_STATE\n",
    "}\n",
    "\n",
    "with warnings.catch_warnings():\n",
    "    warnings.simplefilter(\"ignore\")\n",
    "    k_fold_experiment(model, train_folds, test_3sec_folds, test_30sec_folds)"
   ]
  },
  {
   "cell_type": "code",
   "execution_count": 12,
   "metadata": {},
   "outputs": [
    {
     "name": "stderr",
     "output_type": "stream",
     "text": [
      "100%|██████████| 10/10 [02:45<00:00, 16.53s/it]"
     ]
    },
    {
     "name": "stdout",
     "output_type": "stream",
     "text": [
      "Average train metrics: acc=95.05%,precision=0.951,recall=0.950,f1=0.950\n",
      "Average Mode Strategy metrics: acc=78.98%,precision=0.783,recall=0.785,f1=0.774\n",
      "Average Naive Strategy metrics: acc=75.48%,precision=0.757,recall=0.741,f1=0.734\n"
     ]
    },
    {
     "name": "stderr",
     "output_type": "stream",
     "text": [
      "\n"
     ]
    }
   ],
   "source": [
    "import warnings\n",
    "# ovosvm\n",
    "model = SVC\n",
    "model_args = {\n",
    "    'kernel': 'linear',\n",
    "    'decision_function_shape': 'ovo',\n",
    "    'C': 2,\n",
    "    'random_state': RANDOM_STATE\n",
    "}\n",
    "\n",
    "with warnings.catch_warnings():\n",
    "    warnings.simplefilter(\"ignore\")\n",
    "    k_fold_experiment(model, train_folds, test_3sec_folds, test_30sec_folds)"
   ]
  },
  {
   "cell_type": "code",
   "execution_count": 13,
   "metadata": {},
   "outputs": [
    {
     "name": "stderr",
     "output_type": "stream",
     "text": [
      "100%|██████████| 10/10 [01:56<00:00, 11.69s/it]"
     ]
    },
    {
     "name": "stdout",
     "output_type": "stream",
     "text": [
      "Average train metrics: acc=99.91%,precision=0.999,recall=0.999,f1=0.999\n",
      "Average Mode Strategy metrics: acc=79.08%,precision=0.780,recall=0.780,f1=0.773\n",
      "Average Naive Strategy metrics: acc=74.88%,precision=0.746,recall=0.739,f1=0.731\n"
     ]
    },
    {
     "name": "stderr",
     "output_type": "stream",
     "text": [
      "\n"
     ]
    }
   ],
   "source": [
    "import warnings\n",
    "# MLP\n",
    "model = MLPClassifier\n",
    "model_args = {\n",
    "    'hidden_layer_sizes': (128, 128, 10),\n",
    "    'max_iter': 1000,\n",
    "    'random_state': RANDOM_STATE\n",
    "}\n",
    "\n",
    "with warnings.catch_warnings():\n",
    "    warnings.simplefilter(\"ignore\")\n",
    "    k_fold_experiment(model, train_folds, test_3sec_folds, test_30sec_folds)"
   ]
  },
  {
   "cell_type": "code",
   "execution_count": 14,
   "metadata": {},
   "outputs": [
    {
     "name": "stderr",
     "output_type": "stream",
     "text": [
      "100%|██████████| 10/10 [02:04<00:00, 12.48s/it]"
     ]
    },
    {
     "name": "stdout",
     "output_type": "stream",
     "text": [
      "Average train metrics: acc=99.91%,precision=0.999,recall=0.999,f1=0.999\n",
      "Average Mode Strategy metrics: acc=73.97%,precision=0.734,recall=0.734,f1=0.722\n",
      "Average Naive Strategy metrics: acc=68.27%,precision=0.692,recall=0.675,f1=0.666\n"
     ]
    },
    {
     "name": "stderr",
     "output_type": "stream",
     "text": [
      "\n"
     ]
    }
   ],
   "source": [
    "import warnings\n",
    "# Random Forest\n",
    "model = RandomForestClassifier\n",
    "model_args = {\n",
    "    'n_estimators': 100,\n",
    "    'max_depth': 3,\n",
    "    'random_state': RANDOM_STATE\n",
    "}\n",
    "\n",
    "with warnings.catch_warnings():\n",
    "    warnings.simplefilter(\"ignore\")\n",
    "    k_fold_experiment(model, train_folds, test_3sec_folds, test_30sec_folds)"
   ]
  },
  {
   "cell_type": "code",
   "execution_count": 15,
   "metadata": {},
   "outputs": [
    {
     "name": "stderr",
     "output_type": "stream",
     "text": [
      "100%|██████████| 10/10 [00:01<00:00,  8.04it/s]"
     ]
    },
    {
     "name": "stdout",
     "output_type": "stream",
     "text": [
      "Average train metrics: acc=55.69%,precision=0.560,recall=0.557,f1=0.545\n",
      "Average Mode Strategy metrics: acc=57.76%,precision=0.580,recall=0.570,f1=0.544\n",
      "Average Naive Strategy metrics: acc=53.96%,precision=0.535,recall=0.533,f1=0.510\n"
     ]
    },
    {
     "name": "stderr",
     "output_type": "stream",
     "text": [
      "\n"
     ]
    }
   ],
   "source": [
    "import warnings\n",
    "# GaussianNB\n",
    "model = GaussianNB\n",
    "model_args = {\n",
    "\n",
    "}\n",
    "\n",
    "with warnings.catch_warnings():\n",
    "    warnings.simplefilter(\"ignore\")\n",
    "    k_fold_experiment(model, train_folds, test_3sec_folds, test_30sec_folds)"
   ]
  },
  {
   "cell_type": "code",
   "execution_count": 16,
   "metadata": {},
   "outputs": [
    {
     "name": "stderr",
     "output_type": "stream",
     "text": [
      "100%|██████████| 10/10 [1:09:06<00:00, 414.64s/it]"
     ]
    },
    {
     "name": "stdout",
     "output_type": "stream",
     "text": [
      "Average train metrics: acc=95.21%,precision=0.953,recall=0.952,f1=0.952\n",
      "Average Mode Strategy metrics: acc=76.88%,precision=0.761,recall=0.761,f1=0.752\n",
      "Average Naive Strategy metrics: acc=69.97%,precision=0.707,recall=0.689,f1=0.682\n"
     ]
    },
    {
     "name": "stderr",
     "output_type": "stream",
     "text": [
      "\n"
     ]
    }
   ],
   "source": [
    "import warnings\n",
    "# XGBoost\n",
    "model = GradientBoostingClassifier\n",
    "model_args = {\n",
    "    'subsample': 0.8,\n",
    "    'max_depth': 2,\n",
    "    'random_state': RANDOM_STATE\n",
    "}\n",
    "\n",
    "with warnings.catch_warnings():\n",
    "    warnings.simplefilter(\"ignore\")\n",
    "    k_fold_experiment(model, train_folds, test_3sec_folds, test_30sec_folds)"
   ]
  },
  {
   "cell_type": "code",
   "execution_count": 18,
   "metadata": {},
   "outputs": [
    {
     "data": {
      "image/png": "[encoded data removed]",
      "text/plain": [
       "<Figure size 640x480 with 1 Axes>"
      ]
     },
     "metadata": {},
     "output_type": "display_data"
    },
    {
     "data": {
      "image/png": "[encoded data removed]",
      "text/plain": [
       "<Figure size 640x480 with 1 Axes>"
      ]
     },
     "metadata": {},
     "output_type": "display_data"
    }
   ],
   "source": [
    "import matplotlib.pyplot as plt\n",
    "import numpy as np\n",
    "def create_bar_chart(data, title, ylabel):\n",
    "    models = list(data.keys())\n",
    "    scores = list(data.values())\n",
    "    fig, ax = plt.subplots()\n",
    "    bar_positions = np.arange(len(models))\n",
    "    ax.bar(bar_positions, scores, color='skyblue')\n",
    "    for i, v in enumerate(scores):\n",
    "        ax.text(i, v + 0.01, \"{:.2f}\".format(v), ha='center', va='bottom')\n",
    "\n",
    "    ax.set_xticks(bar_positions)\n",
    "    ax.set_xticklabels(models, rotation=45)\n",
    "    ax.set_ylabel(ylabel)\n",
    "    ax.set_title(title)\n",
    "\n",
    "class_name_mapping = {\n",
    "    \"<class 'sklearn.linear_model._logistic.LogisticRegression'>\": \"Logistic\",\n",
    "    \"<class 'sklearn.svm._classes.SVC'>\": \"SVM\",\n",
    "    \"<class 'sklearn.neural_network._multilayer_perceptron.MLPClassifier'>\": \"MLP\",\n",
    "    \"<class 'sklearn.ensemble._forest.RandomForestClassifier'>\": \"random forest\",\n",
    "    \"<class 'sklearn.naive_bayes.GaussianNB'>\": \"GaussianNB\",\n",
    "    \"<class 'sklearn.ensemble._gb.GradientBoostingClassifier'>\": \"XGBoost\"\n",
    "}\n",
    "\n",
    "mode_accuracy_formatted = {\n",
    "    class_name_mapping[class_name]: round(accs[class_name]['mode'] * 100, 2) for class_name in accs\n",
    "}\n",
    "\n",
    "mode_f1_formatted = {\n",
    "    class_name_mapping[class_name]: round(f1s[class_name]['mode'] * 100, 2) for class_name in f1s\n",
    "}\n",
    "\n",
    "create_bar_chart(mode_accuracy_formatted, \"Accuracy Scores\", \"Score\")\n",
    "create_bar_chart(mode_f1_formatted, \"F1 Scores\", \"Score\")"
   ]
  }
 ],
 "metadata": {
  "kernelspec": {
   "display_name": "audio_env",
   "language": "python",
   "name": "python3"
  },
  "language_info": {
   "codemirror_mode": {
    "name": "ipython",
    "version": 3
   },
   "file_extension": ".py",
   "mimetype": "text/x-python",
   "name": "python",
   "nbconvert_exporter": "python",
   "pygments_lexer": "ipython3",
   "version": "3.12.2"
  }
 },
 "nbformat": 4,
 "nbformat_minor": 2
}
