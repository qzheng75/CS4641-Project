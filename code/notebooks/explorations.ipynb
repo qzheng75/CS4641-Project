{
 "cells": [
  {
   "cell_type": "code",
   "execution_count": null,
   "metadata": {},
   "outputs": [],
   "source": [
    "import os, torch, librosa, librosa.display\n",
    "import numpy as np, pandas as pd, matplotlib.pyplot as plt\n",
    "\n",
    "from IPython.display import Audio\n",
    "from tqdm.auto import tqdm\n",
    "\n",
    "audio_root_folder = './archive/data'"
   ]
  },
  {
   "cell_type": "code",
   "execution_count": null,
   "metadata": {},
   "outputs": [],
   "source": [
    "labels_csv = os.path.join(audio_root_folder, 'features_30_sec.csv')\n",
    "df = pd.read_csv(labels_csv, header=0)\n",
    "df.head(5)"
   ]
  },
  {
   "cell_type": "code",
   "execution_count": null,
   "metadata": {},
   "outputs": [],
   "source": [
    "num_audios = len(df['filename'])\n",
    "labels = df['label'].unique()\n",
    "num_labels = len(labels)\n",
    "\n",
    "num_audios, num_labels, labels"
   ]
  },
  {
   "cell_type": "markdown",
   "metadata": {},
   "source": [
    "Display one random audio"
   ]
  },
  {
   "cell_type": "code",
   "execution_count": null,
   "metadata": {},
   "outputs": [],
   "source": [
    "rand_row = np.random.choice(num_audios, 1)\n",
    "rand_entry = df.iloc[rand_row]\n",
    "rand_entry"
   ]
  },
  {
   "cell_type": "code",
   "execution_count": null,
   "metadata": {},
   "outputs": [],
   "source": [
    "example_label, example_filename = rand_entry['label'].to_numpy()[0], rand_entry['filename'].to_numpy()[0]\n",
    "example_audio_path = os.path.join(audio_root_folder, 'genres_original', example_label, example_filename)\n",
    "\n",
    "example_audio, sample_rate = librosa.load(example_audio_path)\n",
    "Audio(example_audio, rate=sample_rate)"
   ]
  },
  {
   "cell_type": "markdown",
   "metadata": {},
   "source": [
    "Plot features of an audio"
   ]
  },
  {
   "cell_type": "code",
   "execution_count": null,
   "metadata": {},
   "outputs": [],
   "source": [
    "import matplotlib.pyplot as plt\n",
    "from audio_toolbox.visualize import AudioVisualizer"
   ]
  },
  {
   "cell_type": "code",
   "execution_count": null,
   "metadata": {},
   "outputs": [],
   "source": [
    "chroma = AudioVisualizer('chroma_stft')\n",
    "fig = chroma.visualize(audio=example_audio, filename=example_filename,)\n",
    "plt.show();"
   ]
  },
  {
   "cell_type": "code",
   "execution_count": null,
   "metadata": {},
   "outputs": [],
   "source": [
    "mfcc = AudioVisualizer('mfcc')\n",
    "fig = mfcc.visualize(audio=example_audio, filename=example_filename, n_mfcc=12)\n",
    "plt.show();"
   ]
  }
 ],
 "metadata": {
  "kernelspec": {
   "display_name": "Python 3 (ipykernel)",
   "language": "python",
   "name": "python3"
  },
  "language_info": {
   "codemirror_mode": {
    "name": "ipython",
    "version": 3
   },
   "file_extension": ".py",
   "mimetype": "text/x-python",
   "name": "python",
   "nbconvert_exporter": "python",
   "pygments_lexer": "ipython3",
   "version": "3.11.8"
  }
 },
 "nbformat": 4,
 "nbformat_minor": 2
}
