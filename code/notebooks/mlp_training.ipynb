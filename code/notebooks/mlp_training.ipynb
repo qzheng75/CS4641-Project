{
 "cells": [
  {
   "cell_type": "code",
   "execution_count": null,
   "metadata": {},
   "outputs": [],
   "source": [
    "import sys\n",
    "\n",
    "sys.path.append('..')"
   ]
  },
  {
   "cell_type": "code",
   "execution_count": null,
   "metadata": {},
   "outputs": [],
   "source": [
    "import torch\n",
    "\n",
    "data = torch.load('../processed_data/complete_dataset/processed_data.pt')\n",
    "label = torch.load('../processed_data/complete_dataset/processed_label.pt')"
   ]
  },
  {
   "cell_type": "code",
   "execution_count": null,
   "metadata": {},
   "outputs": [],
   "source": [
    "from audio_toolbox.metrics import audio_dataset_split\n",
    "\n",
    "RANDOM_STATE = 42\n",
    "X_train, y_train, X_val, y_val,\\\n",
    "X_test, y_test = audio_dataset_split(data, label, train_val_test_ratio=(0.9, 0.05, 0.05), random_state=RANDOM_STATE)"
   ]
  },
  {
   "cell_type": "code",
   "execution_count": null,
   "metadata": {},
   "outputs": [],
   "source": [
    "X_train_flat = X_train.view(X_train.shape[0], -1)\n",
    "X_val_flat = X_val.view(X_val.shape[0], -1)\n",
    "X_test_flat = X_test.view(X_test.shape[0], -1)"
   ]
  },
  {
   "cell_type": "code",
   "execution_count": null,
   "metadata": {},
   "outputs": [],
   "source": [
    "from sklearn.decomposition import PCA\n",
    "from sklearn.preprocessing import StandardScaler\n",
    "\n",
    "scaler = StandardScaler()\n",
    "pca = PCA(n_components=0.9)\n",
    "\n",
    "train_scaled = scaler.fit_transform(X_train_flat)\n",
    "val_scaled = scaler.transform(X_val_flat)\n",
    "test_scaled = scaler.transform(X_test_flat)\n",
    "\n",
    "device = 'cuda' if torch.cuda.is_available() else 'cpu' \n",
    "train_data = torch.tensor(pca.fit_transform(train_scaled), dtype=torch.float, device=device)\n",
    "val_data = torch.tensor(pca.transform(val_scaled), dtype=torch.float, device=device)\n",
    "test_data = torch.tensor(pca.transform(test_scaled), dtype=torch.float, device=device)"
   ]
  },
  {
   "cell_type": "code",
   "execution_count": null,
   "metadata": {},
   "outputs": [],
   "source": [
    "from sklearn.preprocessing import LabelBinarizer\n",
    "\n",
    "lb = LabelBinarizer()\n",
    "y_train = torch.tensor(lb.fit_transform(y_train), device=device)\n",
    "y_val = torch.tensor(lb.fit_transform(y_val), device=device)\n",
    "y_test = torch.tensor(lb.fit_transform(y_test), device=device)"
   ]
  },
  {
   "cell_type": "code",
   "execution_count": null,
   "metadata": {},
   "outputs": [],
   "source": [
    "from torch.utils.data import TensorDataset\n",
    "\n",
    "datasets = {\n",
    "    'train': TensorDataset(train_data, y_train),\n",
    "    'val': TensorDataset(val_data, y_val),\n",
    "    'test': TensorDataset(test_data, y_test)\n",
    "}"
   ]
  },
  {
   "cell_type": "code",
   "execution_count": null,
   "metadata": {},
   "outputs": [],
   "source": [
    "from audio_toolbox.models import LinearModel\n",
    "\n",
    "input_size = train_data.size(1)\n",
    "output_size = 10\n",
    "batch_size = 32\n",
    "\n",
    "model = LinearModel(input_size, output_size, hidden_dim=64, dropout_prob=0.8, device='cuda')\n"
   ]
  },
  {
   "cell_type": "code",
   "execution_count": null,
   "metadata": {},
   "outputs": [],
   "source": [
    "import torch.optim as optim\n",
    "import torch.optim.lr_scheduler as lr_scheduler\n",
    "from torch import nn\n",
    "from audio_toolbox.models import OneHotCrossEntropyLoss\n",
    "\n",
    "loss_fn = OneHotCrossEntropyLoss()\n",
    "learning_rate = 1e-3  # Adjust the learning rate as needed\n",
    "optimizer = optim.Adam(model.parameters(), lr=learning_rate)\n",
    "scheduler = lr_scheduler.StepLR(optimizer, step_size=5, gamma=0.5)"
   ]
  },
  {
   "cell_type": "code",
   "execution_count": null,
   "metadata": {},
   "outputs": [],
   "source": [
    "from audio_toolbox.trainer import ModelTrainer\n",
    "\n",
    "trainer = ModelTrainer(datasets, model, loss_fn, optimizer, scheduler)"
   ]
  },
  {
   "cell_type": "code",
   "execution_count": null,
   "metadata": {},
   "outputs": [],
   "source": [
    "trainer_config = {\n",
    "    'save': False,\n",
    "    'num_epochs': 100,\n",
    "    'batch_size': batch_size,\n",
    "    'metric': 'acc'\n",
    "}"
   ]
  },
  {
   "cell_type": "code",
   "execution_count": null,
   "metadata": {},
   "outputs": [],
   "source": [
    "trainer.train(**trainer_config)"
   ]
  },
  {
   "cell_type": "code",
   "execution_count": null,
   "metadata": {},
   "outputs": [],
   "source": [
    "train_res = trainer.predict(train_data)\n",
    "val_res = trainer.predict(val_data)\n",
    "test_res = trainer.predict(test_data)"
   ]
  },
  {
   "cell_type": "code",
   "execution_count": null,
   "metadata": {},
   "outputs": [],
   "source": [
    "from sklearn.metrics import accuracy_score\n",
    "\n",
    "print(f\"Train accuracy: {100 * accuracy_score(train_res, y_train):.2f}%\")\n",
    "print(f\"Validation accuracy: {100 * accuracy_score(val_res, y_val):.2f}%\")\n",
    "print(f\"Test accuracy: {100 * accuracy_score(test_res, y_test):.2f}%\")"
   ]
  },
  {
   "cell_type": "code",
   "execution_count": null,
   "metadata": {},
   "outputs": [],
   "source": [
    "from audio_toolbox.metrics import precision_recall\n",
    "\n",
    "_, _, _, f1_train = precision_recall(trainer, train_data, y_train)\n",
    "_, _, _, f1_val = precision_recall(trainer, val_data, y_val)\n",
    "_, _, _, f1_test = precision_recall(trainer, test_data, y_test)"
   ]
  },
  {
   "cell_type": "code",
   "execution_count": null,
   "metadata": {},
   "outputs": [],
   "source": [
    "print(f\"Train f1 score: {f1_train:.4f}\")\n",
    "print(f\"Validation f1 score: {f1_val:.4f}\")\n",
    "print(f\"Test f1 score: {f1_test:.4f}\")"
   ]
  },
  {
   "cell_type": "code",
   "execution_count": null,
   "metadata": {},
   "outputs": [],
   "source": []
  }
 ],
 "metadata": {
  "kernelspec": {
   "display_name": ".venv",
   "language": "python",
   "name": "python3"
  },
  "language_info": {
   "codemirror_mode": {
    "name": "ipython",
    "version": 3
   },
   "file_extension": ".py",
   "mimetype": "text/x-python",
   "name": "python",
   "nbconvert_exporter": "python",
   "pygments_lexer": "ipython3",
   "version": "3.11.8"
  }
 },
 "nbformat": 4,
 "nbformat_minor": 2
}
