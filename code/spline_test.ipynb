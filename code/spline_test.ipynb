{
 "cells": [
  {
   "cell_type": "code",
   "execution_count": 1,
   "metadata": {},
   "outputs": [],
   "source": [
    "import torch\n",
    "\n",
    "def vec_find_intervals(t: torch.tensor, x: torch.tensor, k: int):\n",
    "    n = t.shape[0] - k - 1\n",
    "    tb = t[k]\n",
    "    te = t[n]\n",
    "\n",
    "    result = torch.zeros_like(x, dtype=int)\n",
    "\n",
    "    nan_indices = torch.isnan(x)\n",
    "    result[nan_indices] = -1\n",
    "\n",
    "    out_of_bounds_indices = torch.logical_or(x < tb, x > te)\n",
    "    result[out_of_bounds_indices] = -1\n",
    "\n",
    "    l = torch.full_like(x, k, dtype=int)\n",
    "    while torch.any(torch.logical_and(x < t[l], l != k)):\n",
    "        l = torch.where(torch.logical_and(x < t[l], l != k), l - 1, l)\n",
    "\n",
    "    l = torch.where(l != n, l + 1, l)\n",
    "\n",
    "    while torch.any(torch.logical_and(x >= t[l], l != n)):\n",
    "        l = torch.where(torch.logical_and(x >= t[l], l != n), l + 1, l)\n",
    "\n",
    "    result = torch.where(result != -1, l - 1, result)\n",
    "\n",
    "    return result"
   ]
  },
  {
   "cell_type": "code",
   "execution_count": 2,
   "metadata": {},
   "outputs": [],
   "source": [
    "import torch\n",
    "\n",
    "def vectorized_deboor(t, x, k, interval, result):\n",
    "    \n",
    "    hh = result[:, k+1:]\n",
    "    h = result\n",
    "    result[:, 0] = 1.\n",
    "        \n",
    "    for j in range(1, k + 1):\n",
    "        hh[:, :j] = h[:, :j]\n",
    "        h[:, 0] = 0\n",
    "        for n in range(1, j + 1):\n",
    "            ind = interval + n\n",
    "            xb = t[ind]\n",
    "            xa = t[ind - j]\n",
    "            zero_mask = xa == xb\n",
    "            \n",
    "            h[zero_mask, n] = 1.\n",
    "            w = hh[:, n - 1] / (xb - xa)\n",
    "            h[:, n - 1] += w * (xb - x)\n",
    "            h[:, n] = w * (x - xa)\n",
    "            h[zero_mask, n] = 0.\n",
    "        \n",
    "    return result"
   ]
  },
  {
   "cell_type": "code",
   "execution_count": 3,
   "metadata": {},
   "outputs": [],
   "source": [
    "import numpy as np\n",
    "from time import time\n",
    "\n",
    "def vec_evaluate_spline(t, c, k, xp, out):\n",
    "    if out.shape[0] != xp.shape[0]:\n",
    "        raise ValueError(\"out and xp have incompatible shapes\")\n",
    "    # if out.shape[1] != c.shape[1]:\n",
    "    #     raise ValueError(\"out and c have incompatible shapes\")\n",
    "\n",
    "    # work: (N, 2k + 2)\n",
    "    work = torch.empty(xp.shape[0], 2 * k + 2, dtype=torch.float)\n",
    "\n",
    "    # intervals: (N, )\n",
    "    intervals = vec_find_intervals(t, xp, k)\n",
    "    invalid_mask = intervals < 0\n",
    "    out[invalid_mask, :] = np.nan\n",
    "    out[~invalid_mask, :] = 0.\n",
    "    \n",
    "    if invalid_mask.all():\n",
    "        return out\n",
    "    \n",
    "    work[~invalid_mask] = vectorized_deboor(t, xp[~invalid_mask], k, intervals[~invalid_mask], work[~invalid_mask])\n",
    "    \n",
    "    c = c[intervals[~invalid_mask, None] + torch.arange(-k, 1)].squeeze(dim=2)\n",
    "    out[~invalid_mask, :] = torch.sum(work[~invalid_mask, :k+1] * c, dim=1).unsqueeze(dim=-1)\n",
    "    return out"
   ]
  },
  {
   "cell_type": "code",
   "execution_count": 4,
   "metadata": {},
   "outputs": [],
   "source": [
    "from math import prod\n",
    "\n",
    "def compute_b_spline(x, subintervals, coef):\n",
    "    out_stack = None\n",
    "    for i in range(len(subintervals)):\n",
    "        t = subintervals[i]\n",
    "        k = len(t) - 2\n",
    "        t = torch.cat([torch.tensor((t[0]-1,) * k), t, torch.tensor((t[-1]+1,) * k)])\n",
    "        c = torch.zeros_like(t)\n",
    "        c[k] = 1.\n",
    "        \n",
    "        out = torch.empty((len(x), prod(c.shape[1:])), dtype=c.dtype)\n",
    "        res = torch.nan_to_num(vec_evaluate_spline(t, c.reshape(c.shape[0], -1), k, x, out), nan=0)\n",
    "        \n",
    "        out_stack = res.view(1, -1) if out_stack is None else torch.concatenate([out_stack, res.view(1, -1)])\n",
    "    res = coef @ out_stack\n",
    "    return res"
   ]
  },
  {
   "cell_type": "code",
   "execution_count": 5,
   "metadata": {},
   "outputs": [],
   "source": [
    "from math import prod\n",
    "\n",
    "init_knots = torch.linspace(0, 8., 9)\n",
    "init_knots = torch.cat([torch.tensor([init_knots[0] for i in range(4, 0, -1)]),\n",
    "                        init_knots,\n",
    "                        torch.tensor([init_knots[-1] for i in range(1, 4, 1)])])\n",
    "subintervals = torch.stack([init_knots[i:i+5] for i in range(len(init_knots)-4)])\n",
    "\n",
    "n_lead = 1\n",
    "n_trail = 1\n",
    "\n",
    "out_stack = None\n",
    "coefs = torch.tensor([0.9866,  1.3699,  0.1475, -0.0477, -0.0242, -0.0149, -0.0259, -0.0087])\n",
    "coefs = torch.randn(len(coefs))\n",
    "coefs[0] = 5.\n",
    "\n",
    "subinterval_size = 5\n",
    "cutoff_radius = 8.\n",
    "n_intervals = 8\n",
    "n_lead = 1\n",
    "n_trail = 3\n",
    "title = 'Pt: Supress 1 lead 1 trail, 25 intervals'\n",
    "\n",
    "init_knots = torch.linspace(0, cutoff_radius, n_intervals + 1)\n",
    "init_knots = torch.cat([torch.tensor([init_knots[0] for _ in range(4, 0, -1)]),\n",
    "                        init_knots,\n",
    "                        torch.tensor([init_knots[-1] for _ in range(1, 4, 1)])])\n",
    "subintervals = torch.stack([init_knots[i:i+subinterval_size] for i in range(len(init_knots)-subinterval_size+1)])\n",
    "\n",
    "x = torch.linspace(0, cutoff_radius, 1000)\n",
    "spline_res = compute_b_spline(x, subintervals[n_lead:-n_trail], coefs)\n",
    "\n",
    "\n",
    "X = x.detach().cpu().numpy()\n",
    "y = spline_res.detach().cpu().numpy()\n"
   ]
  },
  {
   "cell_type": "code",
   "execution_count": 6,
   "metadata": {},
   "outputs": [
    {
     "name": "stdout",
     "output_type": "stream",
     "text": [
      "CPU times: total: 0 ns\n",
      "Wall time: 0 ns\n"
     ]
    },
    {
     "data": {
      "text/plain": [
       "False"
      ]
     },
     "execution_count": 6,
     "metadata": {},
     "output_type": "execute_result"
    }
   ],
   "source": [
    "%time\n",
    "\n",
    "from scipy import interpolate\n",
    "\n",
    "splines = []\n",
    "for interval in subintervals[n_lead:-n_trail]:\n",
    "    splines.append(interpolate.BSpline.basis_element(interval, extrapolate=False))\n",
    "\n",
    "res_scipy = []\n",
    "for sp in splines:\n",
    "    res_scipy.append(np.nan_to_num(sp(X), nan=0))\n",
    "\n",
    "    \n",
    "res_scipy = np.vstack(res_scipy)\n",
    "res_scipy = (coefs.cpu().numpy() @ res_scipy).flatten()\n",
    "\n",
    "np.allclose(y, res_scipy)"
   ]
  },
  {
   "cell_type": "code",
   "execution_count": 7,
   "metadata": {},
   "outputs": [
    {
     "data": {
      "text/plain": [
       "5.0"
      ]
     },
     "execution_count": 7,
     "metadata": {},
     "output_type": "execute_result"
    }
   ],
   "source": [
    "res_scipy[0]"
   ]
  },
  {
   "cell_type": "code",
   "execution_count": 8,
   "metadata": {},
   "outputs": [
    {
     "data": {
      "image/png": "[encoded data removed]",
      "text/plain": [
       "<Figure size 640x480 with 1 Axes>"
      ]
     },
     "metadata": {},
     "output_type": "display_data"
    }
   ],
   "source": [
    "import matplotlib.pyplot as plt\n",
    "plt.scatter(X, res_scipy);"
   ]
  },
  {
   "cell_type": "code",
   "execution_count": 9,
   "metadata": {},
   "outputs": [],
   "source": [
    "def vec_evaluate_spline_new(t, c, k, xp, out):\n",
    "    if out.shape[0] != xp.shape[0]:\n",
    "        raise ValueError(\"out and xp have incompatible shapes\")\n",
    "    # if out.shape[1] != c.shape[1]:\n",
    "    #     raise ValueError(\"out and c have incompatible shapes\")\n",
    "\n",
    "    # work: (N, 2k + 2)\n",
    "    work = torch.empty(xp.shape[0], 2 * k + 2, dtype=torch.float)\n",
    "\n",
    "    # intervals: (N, )\n",
    "    intervals = vec_find_intervals(t, xp, k)\n",
    "    invalid_mask = intervals < 0\n",
    "    out[invalid_mask, :] = np.nan\n",
    "    out[~invalid_mask, :] = 0.\n",
    "    \n",
    "    if invalid_mask.all():\n",
    "        return out\n",
    "    \n",
    "    work[~invalid_mask] = vectorized_deboor(t, xp[~invalid_mask], k, intervals[~invalid_mask], work[~invalid_mask])\n",
    "    \n",
    "    c = c[intervals[~invalid_mask, None] + torch.arange(-k, 1)].squeeze(dim=2)\n",
    "    out[~invalid_mask, :] = torch.sum(work[~invalid_mask, :k+1] * c, dim=1).unsqueeze(dim=-1)\n",
    "    return out"
   ]
  },
  {
   "cell_type": "code",
   "execution_count": 10,
   "metadata": {},
   "outputs": [],
   "source": [
    "import operator\n",
    "from math import prod\n",
    "\n",
    "def b_spline(k, t, c, x):\n",
    "    k = operator.index(k)\n",
    "    n = t.shape[0] - k - 1\n",
    "\n",
    "    if k < 0:\n",
    "        raise ValueError(\"Spline order cannot be negative.\")\n",
    "    if t.ndim != 1:\n",
    "        raise ValueError(\"Knot vector must be one-dimensional.\")\n",
    "    if n < k + 1:\n",
    "        raise ValueError(\"Need at least %d knots for degree %d\" %\n",
    "                            (2*k + 2, k))\n",
    "    if (np.diff(t) < 0).any():\n",
    "        raise ValueError(\"Knots must be in a non-decreasing order.\")\n",
    "    if len(np.unique(t[k:n+1])) < 2:\n",
    "        raise ValueError(\"Need at least two internal knots.\")\n",
    "    if not np.isfinite(t).all():\n",
    "        raise ValueError(\"Knots should not have nans or infs.\")\n",
    "    if c.ndim < 1:\n",
    "        raise ValueError(\"Coefficients must be at least 1-dimensional.\")\n",
    "    if c.shape[0] < n:\n",
    "        raise ValueError(\"Knots, coefficients and degree are inconsistent.\")\n",
    "\n",
    "    out = torch.empty((len(x), prod(c.shape[1:])), dtype=c.dtype)\n",
    "    res = torch.nan_to_num(vec_evaluate_spline_new(t, c.reshape(c.shape[0], -1), k, x, out), nan=0)\n",
    "    return res"
   ]
  },
  {
   "cell_type": "code",
   "execution_count": 11,
   "metadata": {},
   "outputs": [
    {
     "ename": "ValueError",
     "evalue": "Knots, coefficients and degree are inconsistent.",
     "output_type": "error",
     "traceback": [
      "\u001b[1;31m---------------------------------------------------------------------------\u001b[0m",
      "\u001b[1;31mValueError\u001b[0m                                Traceback (most recent call last)",
      "Cell \u001b[1;32mIn[11], line 14\u001b[0m\n\u001b[0;32m     11\u001b[0m x \u001b[38;5;241m=\u001b[39m torch\u001b[38;5;241m.\u001b[39mlinspace(\u001b[38;5;241m0\u001b[39m, \u001b[38;5;241m8\u001b[39m, \u001b[38;5;241m10\u001b[39m)\n\u001b[0;32m     12\u001b[0m coef \u001b[38;5;241m=\u001b[39m torch\u001b[38;5;241m.\u001b[39mstack([c \u001b[38;5;28;01mfor\u001b[39;00m _ \u001b[38;5;129;01min\u001b[39;00m \u001b[38;5;28mrange\u001b[39m(\u001b[38;5;28mlen\u001b[39m(x))])\n\u001b[1;32m---> 14\u001b[0m res \u001b[38;5;241m=\u001b[39m \u001b[43mb_spline\u001b[49m\u001b[43m(\u001b[49m\u001b[43mk\u001b[49m\u001b[43m,\u001b[49m\u001b[43m \u001b[49m\u001b[43mt\u001b[49m\u001b[43m,\u001b[49m\u001b[43m \u001b[49m\u001b[43mcoef\u001b[49m\u001b[43m,\u001b[49m\u001b[43m \u001b[49m\u001b[43mx\u001b[49m\u001b[43m)\u001b[49m\n",
      "Cell \u001b[1;32mIn[10], line 24\u001b[0m, in \u001b[0;36mb_spline\u001b[1;34m(k, t, c, x)\u001b[0m\n\u001b[0;32m     22\u001b[0m     \u001b[38;5;28;01mraise\u001b[39;00m \u001b[38;5;167;01mValueError\u001b[39;00m(\u001b[38;5;124m\"\u001b[39m\u001b[38;5;124mCoefficients must be at least 1-dimensional.\u001b[39m\u001b[38;5;124m\"\u001b[39m)\n\u001b[0;32m     23\u001b[0m \u001b[38;5;28;01mif\u001b[39;00m c\u001b[38;5;241m.\u001b[39mshape[\u001b[38;5;241m0\u001b[39m] \u001b[38;5;241m<\u001b[39m n:\n\u001b[1;32m---> 24\u001b[0m     \u001b[38;5;28;01mraise\u001b[39;00m \u001b[38;5;167;01mValueError\u001b[39;00m(\u001b[38;5;124m\"\u001b[39m\u001b[38;5;124mKnots, coefficients and degree are inconsistent.\u001b[39m\u001b[38;5;124m\"\u001b[39m)\n\u001b[0;32m     26\u001b[0m out \u001b[38;5;241m=\u001b[39m torch\u001b[38;5;241m.\u001b[39mempty((\u001b[38;5;28mlen\u001b[39m(x), prod(c\u001b[38;5;241m.\u001b[39mshape[\u001b[38;5;241m1\u001b[39m:])), dtype\u001b[38;5;241m=\u001b[39mc\u001b[38;5;241m.\u001b[39mdtype)\n\u001b[0;32m     27\u001b[0m res \u001b[38;5;241m=\u001b[39m torch\u001b[38;5;241m.\u001b[39mnan_to_num(vec_evaluate_spline_new(t, c\u001b[38;5;241m.\u001b[39mreshape(c\u001b[38;5;241m.\u001b[39mshape[\u001b[38;5;241m0\u001b[39m], \u001b[38;5;241m-\u001b[39m\u001b[38;5;241m1\u001b[39m), k, x, out), nan\u001b[38;5;241m=\u001b[39m\u001b[38;5;241m0\u001b[39m)\n",
      "\u001b[1;31mValueError\u001b[0m: Knots, coefficients and degree are inconsistent."
     ]
    }
   ],
   "source": [
    "k = 2\n",
    "num_splines = 10\n",
    "t = torch.linspace(0, 8, num_splines)\n",
    "t = torch.cat([torch.tensor([t[0] for _ in range(3, 0, -1)]),\n",
    "                            t,\n",
    "                            torch.tensor([t[-1] for _ in range(1, 4, 1)])])\n",
    "n = len(t) - k - 1\n",
    "c = torch.randn(n)\n",
    "c[:3] = 5.\n",
    "c[-5:] = 0.\n",
    "x = torch.linspace(0, 8, 10)\n",
    "coef = torch.stack([c for _ in range(len(x))])\n",
    "\n",
    "res = b_spline(k, t, coef, x)"
   ]
  },
  {
   "cell_type": "code",
   "execution_count": null,
   "metadata": {},
   "outputs": [
    {
     "ename": "NameError",
     "evalue": "name 'res' is not defined",
     "output_type": "error",
     "traceback": [
      "\u001b[1;31m---------------------------------------------------------------------------\u001b[0m",
      "\u001b[1;31mNameError\u001b[0m                                 Traceback (most recent call last)",
      "Cell \u001b[1;32mIn[32], line 3\u001b[0m\n\u001b[0;32m      1\u001b[0m \u001b[38;5;28;01mimport\u001b[39;00m \u001b[38;5;21;01mmatplotlib\u001b[39;00m\u001b[38;5;21;01m.\u001b[39;00m\u001b[38;5;21;01mpyplot\u001b[39;00m \u001b[38;5;28;01mas\u001b[39;00m \u001b[38;5;21;01mplt\u001b[39;00m\n\u001b[1;32m----> 3\u001b[0m plt\u001b[38;5;241m.\u001b[39mscatter(x, \u001b[43mres\u001b[49m);\n",
      "\u001b[1;31mNameError\u001b[0m: name 'res' is not defined"
     ]
    }
   ],
   "source": [
    "import matplotlib.pyplot as plt\n",
    "\n",
    "plt.scatter(x, res);"
   ]
  },
  {
   "cell_type": "code",
   "execution_count": null,
   "metadata": {},
   "outputs": [
    {
     "ename": "ValueError",
     "evalue": "Knots, coefficients and degree are inconsistent.",
     "output_type": "error",
     "traceback": [
      "\u001b[1;31m---------------------------------------------------------------------------\u001b[0m",
      "\u001b[1;31mValueError\u001b[0m                                Traceback (most recent call last)",
      "Cell \u001b[1;32mIn[33], line 3\u001b[0m\n\u001b[0;32m      1\u001b[0m \u001b[38;5;28;01mfrom\u001b[39;00m \u001b[38;5;21;01mscipy\u001b[39;00m\u001b[38;5;21;01m.\u001b[39;00m\u001b[38;5;21;01minterpolate\u001b[39;00m \u001b[38;5;28;01mimport\u001b[39;00m BSpline\n\u001b[1;32m----> 3\u001b[0m spl \u001b[38;5;241m=\u001b[39m \u001b[43mBSpline\u001b[49m\u001b[43m(\u001b[49m\u001b[43mt\u001b[49m\u001b[43m,\u001b[49m\u001b[43m \u001b[49m\u001b[43mcoef\u001b[49m\u001b[43m,\u001b[49m\u001b[43m \u001b[49m\u001b[43mk\u001b[49m\u001b[43m,\u001b[49m\u001b[43m \u001b[49m\u001b[43mextrapolate\u001b[49m\u001b[38;5;241;43m=\u001b[39;49m\u001b[38;5;28;43;01mFalse\u001b[39;49;00m\u001b[43m)\u001b[49m\n\u001b[0;32m      4\u001b[0m y \u001b[38;5;241m=\u001b[39m np\u001b[38;5;241m.\u001b[39mnan_to_num(spl(x), nan\u001b[38;5;241m=\u001b[39m\u001b[38;5;241m0.\u001b[39m)\n\u001b[0;32m      6\u001b[0m \u001b[38;5;66;03m# plt.scatter(x, y);\u001b[39;00m\n",
      "File \u001b[1;32mc:\\Users\\zheng\\Data\\Georgia Tech Courses\\GT Spring 2024 courses\\CS 4641\\MLProject\\.venv\\Lib\\site-packages\\scipy\\interpolate\\_bsplines.py:249\u001b[0m, in \u001b[0;36mBSpline.__init__\u001b[1;34m(self, t, c, k, extrapolate, axis)\u001b[0m\n\u001b[0;32m    247\u001b[0m     \u001b[38;5;28;01mraise\u001b[39;00m \u001b[38;5;167;01mValueError\u001b[39;00m(\u001b[38;5;124m\"\u001b[39m\u001b[38;5;124mCoefficients must be at least 1-dimensional.\u001b[39m\u001b[38;5;124m\"\u001b[39m)\n\u001b[0;32m    248\u001b[0m \u001b[38;5;28;01mif\u001b[39;00m \u001b[38;5;28mself\u001b[39m\u001b[38;5;241m.\u001b[39mc\u001b[38;5;241m.\u001b[39mshape[\u001b[38;5;241m0\u001b[39m] \u001b[38;5;241m<\u001b[39m n:\n\u001b[1;32m--> 249\u001b[0m     \u001b[38;5;28;01mraise\u001b[39;00m \u001b[38;5;167;01mValueError\u001b[39;00m(\u001b[38;5;124m\"\u001b[39m\u001b[38;5;124mKnots, coefficients and degree are inconsistent.\u001b[39m\u001b[38;5;124m\"\u001b[39m)\n\u001b[0;32m    251\u001b[0m dt \u001b[38;5;241m=\u001b[39m _get_dtype(\u001b[38;5;28mself\u001b[39m\u001b[38;5;241m.\u001b[39mc\u001b[38;5;241m.\u001b[39mdtype)\n\u001b[0;32m    252\u001b[0m \u001b[38;5;28mself\u001b[39m\u001b[38;5;241m.\u001b[39mc \u001b[38;5;241m=\u001b[39m np\u001b[38;5;241m.\u001b[39mascontiguousarray(\u001b[38;5;28mself\u001b[39m\u001b[38;5;241m.\u001b[39mc, dtype\u001b[38;5;241m=\u001b[39mdt)\n",
      "\u001b[1;31mValueError\u001b[0m: Knots, coefficients and degree are inconsistent."
     ]
    }
   ],
   "source": [
    "from scipy.interpolate import BSpline\n",
    "\n",
    "spl = BSpline(t, coef, k, extrapolate=False)\n",
    "y = np.nan_to_num(spl(x), nan=0.)\n",
    "\n",
    "# plt.scatter(x, y);\n",
    "\n",
    "print(coef.shape, y.shape)"
   ]
  },
  {
   "cell_type": "code",
   "execution_count": 1,
   "metadata": {},
   "outputs": [
    {
     "data": {
      "text/plain": [
       "tensor([4, 2, 1, 3, 0])"
      ]
     },
     "execution_count": 1,
     "metadata": {},
     "output_type": "execute_result"
    }
   ],
   "source": [
    "import torch\n",
    "\n",
    "torch.randperm(5)"
   ]
  },
  {
   "cell_type": "code",
   "execution_count": null,
   "metadata": {},
   "outputs": [],
   "source": []
  }
 ],
 "metadata": {
  "kernelspec": {
   "display_name": ".venv",
   "language": "python",
   "name": "python3"
  },
  "language_info": {
   "codemirror_mode": {
    "name": "ipython",
    "version": 3
   },
   "file_extension": ".py",
   "mimetype": "text/x-python",
   "name": "python",
   "nbconvert_exporter": "python",
   "pygments_lexer": "ipython3",
   "version": "3.11.1"
  }
 },
 "nbformat": 4,
 "nbformat_minor": 2
}
